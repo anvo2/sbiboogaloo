{
 "cells": [
  {
   "cell_type": "code",
   "execution_count": 1,
   "metadata": {},
   "outputs": [
    {
     "ename": "ModuleNotFoundError",
     "evalue": "No module named 'tensorflow'",
     "output_type": "error",
     "traceback": [
      "\u001b[0;31m---------------------------------------------------------------------------\u001b[0m",
      "\u001b[0;31mModuleNotFoundError\u001b[0m                       Traceback (most recent call last)",
      "\u001b[0;32m<ipython-input-1-2d7ee1daa69e>\u001b[0m in \u001b[0;36m<module>\u001b[0;34m\u001b[0m\n\u001b[1;32m      1\u001b[0m \u001b[0;32mimport\u001b[0m \u001b[0mnumpy\u001b[0m \u001b[0;32mas\u001b[0m \u001b[0mnp\u001b[0m\u001b[0;34m\u001b[0m\u001b[0;34m\u001b[0m\u001b[0m\n\u001b[0;32m----> 2\u001b[0;31m \u001b[0;32mimport\u001b[0m \u001b[0mtensorflow\u001b[0m \u001b[0;32mas\u001b[0m \u001b[0mtf\u001b[0m\u001b[0;34m\u001b[0m\u001b[0;34m\u001b[0m\u001b[0m\n\u001b[0m\u001b[1;32m      3\u001b[0m \u001b[0;32mfrom\u001b[0m \u001b[0mtf\u001b[0m\u001b[0;34m.\u001b[0m\u001b[0mkeras\u001b[0m\u001b[0;34m.\u001b[0m\u001b[0mlayers\u001b[0m \u001b[0;32mimport\u001b[0m \u001b[0mDense\u001b[0m\u001b[0;34m,\u001b[0m \u001b[0mLSTM\u001b[0m\u001b[0;34m\u001b[0m\u001b[0;34m\u001b[0m\u001b[0m\n\u001b[1;32m      4\u001b[0m \u001b[0;32mfrom\u001b[0m \u001b[0mtf\u001b[0m\u001b[0;34m.\u001b[0m\u001b[0mkeras\u001b[0m\u001b[0;34m.\u001b[0m\u001b[0mmodels\u001b[0m \u001b[0;32mimport\u001b[0m \u001b[0mSequential\u001b[0m\u001b[0;34m\u001b[0m\u001b[0;34m\u001b[0m\u001b[0m\n",
      "\u001b[0;31mModuleNotFoundError\u001b[0m: No module named 'tensorflow'"
     ]
    }
   ],
   "source": [
    "import numpy as np\n",
    "import tensorflow as tf\n",
    "from tf.keras.layers import Dense, LSTM\n",
    "from tf.keras.models import Sequential"
   ]
  },
  {
   "cell_type": "code",
   "execution_count": 2,
   "metadata": {},
   "outputs": [],
   "source": []
  },
  {
   "cell_type": "code",
   "execution_count": 2,
   "metadata": {},
   "outputs": [
    {
     "name": "stdout",
     "output_type": "stream",
     "text": [
      "Help on function simulator in module ssms.basic_simulators.simulator:\n",
      "\n",
      "simulator(theta, model='angle', n_samples=1000, delta_t=0.001, max_t=20, no_noise=False, bin_dim=None, bin_pointwise=False)\n",
      "    Basic data simulator for the models included in HDDM. \n",
      "    \n",
      "    \n",
      "    :Arguments:\n",
      "        theta : list or numpy.array\n",
      "            Parameters of the simulator. If 2d array, each row is treated as a 'trial' \n",
      "            and the function runs n_sample * n_trials simulations.\n",
      "        model: str <default='angle'>\n",
      "            Determines the model that will be simulated.\n",
      "        n_samples: int <default=1000>\n",
      "            Number of simulation runs (for each trial if supplied n_trials > 1)\n",
      "        n_trials: int <default=1>\n",
      "            Number of trials in a simulations run (this specifically addresses trial by trial parameterizations)\n",
      "        delta_t: float\n",
      "            Size fo timesteps in simulator (conceptually measured in seconds)\n",
      "        max_t: float\n",
      "            Maximum reaction the simulator can reach\n",
      "        no_noise: bool <default=False>\n",
      "            Turn noise of (useful for plotting purposes mostly)\n",
      "        bin_dim: int <default=None>\n",
      "            Number of bins to use (in case the simulator output is supposed to come out as a count histogram)\n",
      "        bin_pointwise: bool <default=False>\n",
      "            Wheter or not to bin the output data pointwise. If true the 'RT' part of the data is now specifies the\n",
      "            'bin-number' of a given trial instead of the 'RT' directly. You need to specify bin_dim as some number for this to work.\n",
      "    \n",
      "    :Return: tuple \n",
      "        can be (rts, responses, metadata)\n",
      "        or     (rt-response histogram, metadata)\n",
      "        or     (rts binned pointwise, responses, metadata)\n",
      "\n"
     ]
    }
   ],
   "source": [
    "help(ssms.basic_simulators.simulator)"
   ]
  },
  {
   "cell_type": "code",
   "execution_count": 2,
   "metadata": {},
   "outputs": [],
   "source": [
    "y_test = ssms.basic_simulators.simulator(theta = [0, 1, 0.5, 1, 0.5], n_samples = 10)"
   ]
  },
  {
   "cell_type": "code",
   "execution_count": 94,
   "metadata": {},
   "outputs": [
    {
     "data": {
      "text/plain": [
       "{'rts': array([[1.8739923],\n",
       "        [1.2280003],\n",
       "        [1.3649988],\n",
       "        [1.7079945],\n",
       "        [1.2999997],\n",
       "        [1.3459991],\n",
       "        [1.2240002],\n",
       "        [1.3029996],\n",
       "        [1.2620002],\n",
       "        [2.0419927]], dtype=float32),\n",
       " 'choices': array([[-1],\n",
       "        [ 1],\n",
       "        [ 1],\n",
       "        [-1],\n",
       "        [ 1],\n",
       "        [ 1],\n",
       "        [ 1],\n",
       "        [ 1],\n",
       "        [ 1],\n",
       "        [-1]], dtype=int32),\n",
       " 'metadata': {'v': array([0.], dtype=float32),\n",
       "  'a': array([1.], dtype=float32),\n",
       "  'z': array([0.5], dtype=float32),\n",
       "  't': array([1.], dtype=float32),\n",
       "  's': 1.0,\n",
       "  'theta': array([0.5], dtype=float32),\n",
       "  'delta_t': 0.0010000000474974513,\n",
       "  'max_t': 20.0,\n",
       "  'n_samples': 10,\n",
       "  'simulator': 'ddm_flexbound',\n",
       "  'boundary_fun_type': 'angle',\n",
       "  'possible_choices': [-1, 1],\n",
       "  'trajectory': array([[ 0.0000000e+00],\n",
       "         [-2.6722709e-04],\n",
       "         [ 6.1162185e-02],\n",
       "         ...,\n",
       "         [-9.9900000e+02],\n",
       "         [-9.9900000e+02],\n",
       "         [-9.9900000e+02]], dtype=float32),\n",
       "  'boundary': array([ 1.       ,  0.9994537,  0.9989074, ..., -9.924958 , -9.925504 ,\n",
       "         -9.92605  ], dtype=float32),\n",
       "  'model': 'angle'}}"
      ]
     },
     "execution_count": 94,
     "metadata": {},
     "output_type": "execute_result"
    }
   ],
   "source": [
    "y_test"
   ]
  },
  {
   "cell_type": "code",
   "execution_count": 3,
   "metadata": {},
   "outputs": [
    {
     "data": {
      "text/plain": [
       "array([  0,   0,   0,   0,   0,   0,   2,  75, 107, 107,  77,  77,  30,\n",
       "        20,   6,   0,   0,   0,   0,   0,   0,   0,   0,   0,   0,   0,\n",
       "         0,   0,   0,   0,   0,   0,   0,   0,   0,   0,   0,   0,   0,\n",
       "         0,   0,   0,   0,   0,   0,   0,   0,   0,   0,   0,   0,   0,\n",
       "         0,   0,   0,   0,   0,   0,   0,   0,   0,   0,   0,   0,   0,\n",
       "         0,   0,   0,   0,   0,   2,  68, 115,  97,  85,  70,  39,  21,\n",
       "         2,   0,   0,   0,   0,   0,   0,   0,   0,   0,   0,   0,   0,\n",
       "         0,   0,   0,   0,   0,   0,   0,   0,   0,   0,   0,   0,   0,\n",
       "         0,   0,   0,   0,   0,   0,   0,   0,   0,   0,   0,   0,   0,\n",
       "         0,   0,   0,   0,   0,   0,   0,   0,   0,   0,   0])"
      ]
     },
     "execution_count": 3,
     "metadata": {},
     "output_type": "execute_result"
    }
   ],
   "source": [
    "#Call a basic simulator\n",
    "x = ssms.basic_simulators.simulator(theta = [0, 1, 0.5, 1, 0.5], n_samples = 1000)\n",
    "#Extract the rts and choice into a tuple\n",
    "tupleCouple = (x['rts'], x['choices'])\n",
    "#Turn tuple into np array\n",
    "data = np.transpose(np.squeeze(np.array(tupleCouple)))\n",
    "bins = np.linspace(0.0,10.0,65)\n",
    "\n",
    "\n",
    "onesBool = data[:,1] == 1\n",
    "oneArray = data[:,0][onesBool]\n",
    "minusOnesBool = data[:,1] == -1\n",
    "minusOneArray = data[:,0][minusOnesBool]\n",
    "\n",
    "oneInds = np.histogram(oneArray, bins)\n",
    "minusOneInds = np.histogram(minusOneArray, bins)\n",
    "np.append(oneInds[0], minusOneInds[0])"
   ]
  },
  {
   "cell_type": "code",
   "execution_count": 85,
   "metadata": {},
   "outputs": [
    {
     "data": {
      "text/plain": [
       "array([[  0,   0,   0,   0,   0,   0,   1,  61, 108,  87,  90,  55,  42,\n",
       "         19,   5,   0,   0,   0,   0,   0,   0,   0,   0,   0,   0,   0,\n",
       "          0,   0,   0,   0,   0,   0,   0,   0,   0,   0,   0,   0,   0,\n",
       "          0,   0,   0,   0,   0,   0,   0,   0,   0,   0,   0,   0,   0,\n",
       "          0,   0,   0,   0,   0,   0,   0,   0,   0,   0,   0,   0],\n",
       "       [  0,   0,   0,   0,   0,   0,   1,  62, 118, 124,  96,  62,  40,\n",
       "         21,   7,   1,   0,   0,   0,   0,   0,   0,   0,   0,   0,   0,\n",
       "          0,   0,   0,   0,   0,   0,   0,   0,   0,   0,   0,   0,   0,\n",
       "          0,   0,   0,   0,   0,   0,   0,   0,   0,   0,   0,   0,   0,\n",
       "          0,   0,   0,   0,   0,   0,   0,   0,   0,   0,   0,   0]])"
      ]
     },
     "execution_count": 85,
     "metadata": {},
     "output_type": "execute_result"
    }
   ],
   "source": [
    "finalArray"
   ]
  },
  {
   "cell_type": "code",
   "execution_count": 55,
   "metadata": {},
   "outputs": [
    {
     "name": "stderr",
     "output_type": "stream",
     "text": [
      "/users/avo2/miniconda3/envs/tf_test/lib/python3.7/site-packages/ipykernel_launcher.py:6: VisibleDeprecationWarning: Creating an ndarray from ragged nested sequences (which is a list-or-tuple of lists-or-tuples-or ndarrays with different lengths or shapes) is deprecated. If you meant to do this, you must specify 'dtype=object' when creating the ndarray.\n",
      "  \n"
     ]
    }
   ],
   "source": [
    "\n",
    "tupleCouple2 = (oneArray, minusOneArray)\n",
    "dataCouple = np.transpose(np.squeeze(np.array(tupleCouple2)))\n"
   ]
  },
  {
   "cell_type": "code",
   "execution_count": null,
   "metadata": {},
   "outputs": [],
   "source": []
  },
  {
   "cell_type": "code",
   "execution_count": 16,
   "metadata": {},
   "outputs": [],
   "source": []
  },
  {
   "cell_type": "code",
   "execution_count": 26,
   "metadata": {},
   "outputs": [],
   "source": []
  },
  {
   "cell_type": "code",
   "execution_count": 35,
   "metadata": {},
   "outputs": [],
   "source": []
  },
  {
   "cell_type": "code",
   "execution_count": 110,
   "metadata": {},
   "outputs": [
    {
     "data": {
      "text/plain": [
       "array([[0., 0., 0., 0., 0., 0., 0., 0., 0., 0., 0., 0., 0., 0., 0., 0.,\n",
       "        0., 0., 0., 0., 0., 0., 0., 0., 0., 0., 0., 0., 0., 0., 0., 0.,\n",
       "        0., 0., 0., 0., 0., 0., 0., 0., 0., 0., 0., 0., 0., 0., 0., 0.,\n",
       "        0., 0., 0., 0., 0., 0., 0., 0., 0., 0., 0., 0., 0., 0., 0., 0.]])"
      ]
     },
     "execution_count": 110,
     "metadata": {},
     "output_type": "execute_result"
    }
   ],
   "source": [
    "np.zeros((1,64))"
   ]
  },
  {
   "cell_type": "code",
   "execution_count": 50,
   "metadata": {},
   "outputs": [],
   "source": [
    "num_dim = 4\n",
    "priorUnif = utils.BoxUniform(low=[-3.0, 0.3, 0.1, 0.0], high=[3.0, 2.5, 0.9, 2.0])"
   ]
  },
  {
   "cell_type": "code",
   "execution_count": 51,
   "metadata": {},
   "outputs": [
    {
     "ename": "TypeError",
     "evalue": "'int' object is not iterable",
     "output_type": "error",
     "traceback": [
      "\u001b[0;31m---------------------------------------------------------------------------\u001b[0m",
      "\u001b[0;31mTypeError\u001b[0m                                 Traceback (most recent call last)",
      "\u001b[0;32m<ipython-input-51-7eeafa705d84>\u001b[0m in \u001b[0;36m<module>\u001b[0;34m\u001b[0m\n\u001b[0;32m----> 1\u001b[0;31m \u001b[0mpriorUnif\u001b[0m\u001b[0;34m.\u001b[0m\u001b[0msample\u001b[0m\u001b[0;34m(\u001b[0m\u001b[0;36m1\u001b[0m\u001b[0;34m)\u001b[0m\u001b[0;34m\u001b[0m\u001b[0;34m\u001b[0m\u001b[0m\n\u001b[0m",
      "\u001b[0;32m~/miniconda3/envs/tf_test/lib/python3.7/site-packages/torch/distributions/independent.py\u001b[0m in \u001b[0;36msample\u001b[0;34m(self, sample_shape)\u001b[0m\n\u001b[1;32m     83\u001b[0m \u001b[0;34m\u001b[0m\u001b[0m\n\u001b[1;32m     84\u001b[0m     \u001b[0;32mdef\u001b[0m \u001b[0msample\u001b[0m\u001b[0;34m(\u001b[0m\u001b[0mself\u001b[0m\u001b[0;34m,\u001b[0m \u001b[0msample_shape\u001b[0m\u001b[0;34m=\u001b[0m\u001b[0mtorch\u001b[0m\u001b[0;34m.\u001b[0m\u001b[0mSize\u001b[0m\u001b[0;34m(\u001b[0m\u001b[0;34m)\u001b[0m\u001b[0;34m)\u001b[0m\u001b[0;34m:\u001b[0m\u001b[0;34m\u001b[0m\u001b[0;34m\u001b[0m\u001b[0m\n\u001b[0;32m---> 85\u001b[0;31m         \u001b[0;32mreturn\u001b[0m \u001b[0mself\u001b[0m\u001b[0;34m.\u001b[0m\u001b[0mbase_dist\u001b[0m\u001b[0;34m.\u001b[0m\u001b[0msample\u001b[0m\u001b[0;34m(\u001b[0m\u001b[0msample_shape\u001b[0m\u001b[0;34m)\u001b[0m\u001b[0;34m\u001b[0m\u001b[0;34m\u001b[0m\u001b[0m\n\u001b[0m\u001b[1;32m     86\u001b[0m \u001b[0;34m\u001b[0m\u001b[0m\n\u001b[1;32m     87\u001b[0m     \u001b[0;32mdef\u001b[0m \u001b[0mrsample\u001b[0m\u001b[0;34m(\u001b[0m\u001b[0mself\u001b[0m\u001b[0;34m,\u001b[0m \u001b[0msample_shape\u001b[0m\u001b[0;34m=\u001b[0m\u001b[0mtorch\u001b[0m\u001b[0;34m.\u001b[0m\u001b[0mSize\u001b[0m\u001b[0;34m(\u001b[0m\u001b[0;34m)\u001b[0m\u001b[0;34m)\u001b[0m\u001b[0;34m:\u001b[0m\u001b[0;34m\u001b[0m\u001b[0;34m\u001b[0m\u001b[0m\n",
      "\u001b[0;32m~/miniconda3/envs/tf_test/lib/python3.7/site-packages/torch/distributions/distribution.py\u001b[0m in \u001b[0;36msample\u001b[0;34m(self, sample_shape)\u001b[0m\n\u001b[1;32m    134\u001b[0m         \"\"\"\n\u001b[1;32m    135\u001b[0m         \u001b[0;32mwith\u001b[0m \u001b[0mtorch\u001b[0m\u001b[0;34m.\u001b[0m\u001b[0mno_grad\u001b[0m\u001b[0;34m(\u001b[0m\u001b[0;34m)\u001b[0m\u001b[0;34m:\u001b[0m\u001b[0;34m\u001b[0m\u001b[0;34m\u001b[0m\u001b[0m\n\u001b[0;32m--> 136\u001b[0;31m             \u001b[0;32mreturn\u001b[0m \u001b[0mself\u001b[0m\u001b[0;34m.\u001b[0m\u001b[0mrsample\u001b[0m\u001b[0;34m(\u001b[0m\u001b[0msample_shape\u001b[0m\u001b[0;34m)\u001b[0m\u001b[0;34m\u001b[0m\u001b[0;34m\u001b[0m\u001b[0m\n\u001b[0m\u001b[1;32m    137\u001b[0m \u001b[0;34m\u001b[0m\u001b[0m\n\u001b[1;32m    138\u001b[0m     \u001b[0;32mdef\u001b[0m \u001b[0mrsample\u001b[0m\u001b[0;34m(\u001b[0m\u001b[0mself\u001b[0m\u001b[0;34m,\u001b[0m \u001b[0msample_shape\u001b[0m\u001b[0;34m=\u001b[0m\u001b[0mtorch\u001b[0m\u001b[0;34m.\u001b[0m\u001b[0mSize\u001b[0m\u001b[0;34m(\u001b[0m\u001b[0;34m)\u001b[0m\u001b[0;34m)\u001b[0m\u001b[0;34m:\u001b[0m\u001b[0;34m\u001b[0m\u001b[0;34m\u001b[0m\u001b[0m\n",
      "\u001b[0;32m~/miniconda3/envs/tf_test/lib/python3.7/site-packages/torch/distributions/uniform.py\u001b[0m in \u001b[0;36mrsample\u001b[0;34m(self, sample_shape)\u001b[0m\n\u001b[1;32m     65\u001b[0m \u001b[0;34m\u001b[0m\u001b[0m\n\u001b[1;32m     66\u001b[0m     \u001b[0;32mdef\u001b[0m \u001b[0mrsample\u001b[0m\u001b[0;34m(\u001b[0m\u001b[0mself\u001b[0m\u001b[0;34m,\u001b[0m \u001b[0msample_shape\u001b[0m\u001b[0;34m=\u001b[0m\u001b[0mtorch\u001b[0m\u001b[0;34m.\u001b[0m\u001b[0mSize\u001b[0m\u001b[0;34m(\u001b[0m\u001b[0;34m)\u001b[0m\u001b[0;34m)\u001b[0m\u001b[0;34m:\u001b[0m\u001b[0;34m\u001b[0m\u001b[0;34m\u001b[0m\u001b[0m\n\u001b[0;32m---> 67\u001b[0;31m         \u001b[0mshape\u001b[0m \u001b[0;34m=\u001b[0m \u001b[0mself\u001b[0m\u001b[0;34m.\u001b[0m\u001b[0m_extended_shape\u001b[0m\u001b[0;34m(\u001b[0m\u001b[0msample_shape\u001b[0m\u001b[0;34m)\u001b[0m\u001b[0;34m\u001b[0m\u001b[0;34m\u001b[0m\u001b[0m\n\u001b[0m\u001b[1;32m     68\u001b[0m         \u001b[0mrand\u001b[0m \u001b[0;34m=\u001b[0m \u001b[0mtorch\u001b[0m\u001b[0;34m.\u001b[0m\u001b[0mrand\u001b[0m\u001b[0;34m(\u001b[0m\u001b[0mshape\u001b[0m\u001b[0;34m,\u001b[0m \u001b[0mdtype\u001b[0m\u001b[0;34m=\u001b[0m\u001b[0mself\u001b[0m\u001b[0;34m.\u001b[0m\u001b[0mlow\u001b[0m\u001b[0;34m.\u001b[0m\u001b[0mdtype\u001b[0m\u001b[0;34m,\u001b[0m \u001b[0mdevice\u001b[0m\u001b[0;34m=\u001b[0m\u001b[0mself\u001b[0m\u001b[0;34m.\u001b[0m\u001b[0mlow\u001b[0m\u001b[0;34m.\u001b[0m\u001b[0mdevice\u001b[0m\u001b[0;34m)\u001b[0m\u001b[0;34m\u001b[0m\u001b[0;34m\u001b[0m\u001b[0m\n\u001b[1;32m     69\u001b[0m         \u001b[0;32mreturn\u001b[0m \u001b[0mself\u001b[0m\u001b[0;34m.\u001b[0m\u001b[0mlow\u001b[0m \u001b[0;34m+\u001b[0m \u001b[0mrand\u001b[0m \u001b[0;34m*\u001b[0m \u001b[0;34m(\u001b[0m\u001b[0mself\u001b[0m\u001b[0;34m.\u001b[0m\u001b[0mhigh\u001b[0m \u001b[0;34m-\u001b[0m \u001b[0mself\u001b[0m\u001b[0;34m.\u001b[0m\u001b[0mlow\u001b[0m\u001b[0;34m)\u001b[0m\u001b[0;34m\u001b[0m\u001b[0;34m\u001b[0m\u001b[0m\n",
      "\u001b[0;32m~/miniconda3/envs/tf_test/lib/python3.7/site-packages/torch/distributions/distribution.py\u001b[0m in \u001b[0;36m_extended_shape\u001b[0;34m(self, sample_shape)\u001b[0m\n\u001b[1;32m    235\u001b[0m         \"\"\"\n\u001b[1;32m    236\u001b[0m         \u001b[0;32mif\u001b[0m \u001b[0;32mnot\u001b[0m \u001b[0misinstance\u001b[0m\u001b[0;34m(\u001b[0m\u001b[0msample_shape\u001b[0m\u001b[0;34m,\u001b[0m \u001b[0mtorch\u001b[0m\u001b[0;34m.\u001b[0m\u001b[0mSize\u001b[0m\u001b[0;34m)\u001b[0m\u001b[0;34m:\u001b[0m\u001b[0;34m\u001b[0m\u001b[0;34m\u001b[0m\u001b[0m\n\u001b[0;32m--> 237\u001b[0;31m             \u001b[0msample_shape\u001b[0m \u001b[0;34m=\u001b[0m \u001b[0mtorch\u001b[0m\u001b[0;34m.\u001b[0m\u001b[0mSize\u001b[0m\u001b[0;34m(\u001b[0m\u001b[0msample_shape\u001b[0m\u001b[0;34m)\u001b[0m\u001b[0;34m\u001b[0m\u001b[0;34m\u001b[0m\u001b[0m\n\u001b[0m\u001b[1;32m    238\u001b[0m         \u001b[0;32mreturn\u001b[0m \u001b[0msample_shape\u001b[0m \u001b[0;34m+\u001b[0m \u001b[0mself\u001b[0m\u001b[0;34m.\u001b[0m\u001b[0m_batch_shape\u001b[0m \u001b[0;34m+\u001b[0m \u001b[0mself\u001b[0m\u001b[0;34m.\u001b[0m\u001b[0m_event_shape\u001b[0m\u001b[0;34m\u001b[0m\u001b[0;34m\u001b[0m\u001b[0m\n\u001b[1;32m    239\u001b[0m \u001b[0;34m\u001b[0m\u001b[0m\n",
      "\u001b[0;31mTypeError\u001b[0m: 'int' object is not iterable"
     ]
    }
   ],
   "source": [
    "priorUnif.sample(1)"
   ]
  },
  {
   "cell_type": "code",
   "execution_count": 4,
   "metadata": {},
   "outputs": [],
   "source": [
    "#assuming fixing theta at 0.5\n",
    "def simulator(parameter_set):\n",
    "    fullParams = torch.cat((parameter_set, torch.tensor([0.5])),0)\n",
    "    #Call a basic simulator\n",
    "    x = ssms.basic_simulators.simulator(theta = fullParams, n_samples = 1000)\n",
    "    #Extract the rts and choice into a tuple\n",
    "    tupleCouple = (x['rts'], x['choices'])\n",
    "    #Turn tuple into np array\n",
    "    data = np.transpose(np.squeeze(np.array(tupleCouple)))\n",
    "    bins = np.linspace(0.0,10.0,65)\n",
    "\n",
    "\n",
    "    onesBool = data[:,1] == 1\n",
    "    oneArray = data[:,0][onesBool]\n",
    "    minusOnesBool = data[:,1] == -1\n",
    "    minusOneArray = data[:,0][minusOnesBool]\n",
    "\n",
    "    oneInds = np.histogram(oneArray, bins)\n",
    "    minusOneInds = np.histogram(minusOneArray, bins)\n",
    "    finalArray = np.append(oneInds[0], minusOneInds[0])\n",
    "    return finalArray"
   ]
  },
  {
   "cell_type": "code",
   "execution_count": 41,
   "metadata": {},
   "outputs": [
    {
     "name": "stdout",
     "output_type": "stream",
     "text": [
      "Help on function prepare_for_sbi in module sbi.utils.user_input_checks:\n",
      "\n",
      "prepare_for_sbi(simulator: Callable, prior) -> Tuple[Callable, torch.distributions.distribution.Distribution]\n",
      "    Prepare simulator, prior and for usage in sbi.\n",
      "    \n",
      "    One of the goals is to allow you to use sbi with inputs computed in numpy.\n",
      "    \n",
      "    Attempts to meet the following requirements by reshaping and type-casting:\n",
      "    \n",
      "    - the simulator function receives as input and returns a Tensor.<br/>\n",
      "    - the simulator can simulate batches of parameters and return batches of data.<br/>\n",
      "    - the prior does not produce batches and samples and evaluates to Tensor.<br/>\n",
      "    - the output shape is a `torch.Size((1,N))` (i.e, has a leading batch dimension 1).\n",
      "    \n",
      "    If this is not possible, a suitable exception will be raised.\n",
      "    \n",
      "    Args:\n",
      "        simulator: Simulator as provided by the user.\n",
      "        prior: Prior as provided by the user.\n",
      "    \n",
      "    Returns:\n",
      "        Tuple (simulator, prior, x_shape) checked and matching the requirements of sbi.\n",
      "\n"
     ]
    }
   ],
   "source": [
    "help(prepare_for_sbi)"
   ]
  },
  {
   "cell_type": "code",
   "execution_count": 35,
   "metadata": {},
   "outputs": [],
   "source": [
    "def cosimulator(parameter_set):\n",
    "    fullParams = torch.cat((parameter_set, torch.tensor([0.5])),0)\n",
    "    #Call a basic simulator\n",
    "    x = ssms.basic_simulators.simulator(theta = fullParams, n_samples = 1000)\n",
    "    #Extract the rts and choice into a tuple\n",
    "    tupleCouple = (x['rts'], x['choices'])\n",
    "    #Turn tuple into np array\n",
    "    data = np.transpose(np.squeeze(np.array(tupleCouple)))\n",
    "    bins = np.linspace(0.0,10.0,65)\n",
    "\n",
    "\n",
    "    onesBool = data[:,1] == 1\n",
    "    oneArray = data[:,0][onesBool]\n",
    "    minusOnesBool = data[:,1] == -1\n",
    "    minusOneArray = data[:,0][minusOnesBool]\n",
    "\n",
    "    oneInds = np.histogram(oneArray, bins)\n",
    "    minusOneInds = np.histogram(minusOneArray, bins)\n",
    "    finalArray = np.append(oneInds[0], minusOneInds[0])\n",
    "    return (finalArray, data)"
   ]
  },
  {
   "cell_type": "code",
   "execution_count": 46,
   "metadata": {},
   "outputs": [
    {
     "ename": "TypeError",
     "evalue": "'function' object is not subscriptable",
     "output_type": "error",
     "traceback": [
      "\u001b[0;31m---------------------------------------------------------------------------\u001b[0m",
      "\u001b[0;31mTypeError\u001b[0m                                 Traceback (most recent call last)",
      "\u001b[0;32m<ipython-input-46-c804041c2e22>\u001b[0m in \u001b[0;36m<module>\u001b[0;34m\u001b[0m\n\u001b[0;32m----> 1\u001b[0;31m \u001b[0msimulatory\u001b[0m\u001b[0;34m,\u001b[0m \u001b[0mpriory\u001b[0m \u001b[0;34m=\u001b[0m \u001b[0mprepare_for_sbi\u001b[0m\u001b[0;34m(\u001b[0m\u001b[0mcosimulator\u001b[0m\u001b[0;34m[\u001b[0m\u001b[0;36m0\u001b[0m\u001b[0;34m]\u001b[0m\u001b[0;34m,\u001b[0m \u001b[0mpriorUnif\u001b[0m\u001b[0;34m)\u001b[0m\u001b[0;34m\u001b[0m\u001b[0;34m\u001b[0m\u001b[0m\n\u001b[0m",
      "\u001b[0;31mTypeError\u001b[0m: 'function' object is not subscriptable"
     ]
    }
   ],
   "source": []
  },
  {
   "cell_type": "code",
   "execution_count": 54,
   "metadata": {},
   "outputs": [
    {
     "ename": "AttributeError",
     "evalue": "'function' object has no attribute 'sample'",
     "output_type": "error",
     "traceback": [
      "\u001b[0;31m---------------------------------------------------------------------------\u001b[0m",
      "\u001b[0;31mAttributeError\u001b[0m                            Traceback (most recent call last)",
      "\u001b[0;32m<ipython-input-54-6dab6b665ce2>\u001b[0m in \u001b[0;36m<module>\u001b[0;34m\u001b[0m\n\u001b[1;32m      4\u001b[0m \u001b[0mtheta_presimulated\u001b[0m \u001b[0;34m=\u001b[0m \u001b[0mpriory\u001b[0m\u001b[0;34m.\u001b[0m\u001b[0msample\u001b[0m\u001b[0;34m(\u001b[0m\u001b[0;34m(\u001b[0m\u001b[0mnumber_presimulated\u001b[0m\u001b[0;34m,\u001b[0m\u001b[0;34m)\u001b[0m\u001b[0;34m)\u001b[0m\u001b[0;34m\u001b[0m\u001b[0;34m\u001b[0m\u001b[0m\n\u001b[1;32m      5\u001b[0m \u001b[0mx_presimulated\u001b[0m \u001b[0;34m=\u001b[0m \u001b[0msimulatory\u001b[0m\u001b[0;34m(\u001b[0m\u001b[0mtheta_presimulated\u001b[0m\u001b[0;34m)\u001b[0m\u001b[0;34m\u001b[0m\u001b[0;34m\u001b[0m\u001b[0m\n\u001b[0;32m----> 6\u001b[0;31m \u001b[0minference\u001b[0m \u001b[0;34m=\u001b[0m \u001b[0mSNPE\u001b[0m\u001b[0;34m(\u001b[0m\u001b[0msimulatory\u001b[0m\u001b[0;34m,\u001b[0m \u001b[0mpriory\u001b[0m\u001b[0;34m)\u001b[0m\u001b[0;34m\u001b[0m\u001b[0;34m\u001b[0m\u001b[0m\n\u001b[0m\u001b[1;32m      7\u001b[0m \u001b[0minference\u001b[0m\u001b[0;34m.\u001b[0m\u001b[0mprovide_presimulated\u001b[0m\u001b[0;34m(\u001b[0m\u001b[0mtheta_presimulated\u001b[0m\u001b[0;34m,\u001b[0m \u001b[0mx_presimulated\u001b[0m\u001b[0;34m,\u001b[0m \u001b[0mfrom_round\u001b[0m\u001b[0;34m=\u001b[0m\u001b[0;36m0\u001b[0m\u001b[0;34m)\u001b[0m\u001b[0;34m\u001b[0m\u001b[0;34m\u001b[0m\u001b[0m\n",
      "\u001b[0;32m~/miniconda3/envs/tf_test/lib/python3.7/site-packages/sbi/inference/snpe/snpe_c.py\u001b[0m in \u001b[0;36m__init__\u001b[0;34m(self, prior, density_estimator, device, logging_level, summary_writer, show_progress_bars, **unused_args)\u001b[0m\n\u001b[1;32m     88\u001b[0m \u001b[0;34m\u001b[0m\u001b[0m\n\u001b[1;32m     89\u001b[0m         \u001b[0mkwargs\u001b[0m \u001b[0;34m=\u001b[0m \u001b[0mdel_entries\u001b[0m\u001b[0;34m(\u001b[0m\u001b[0mlocals\u001b[0m\u001b[0;34m(\u001b[0m\u001b[0;34m)\u001b[0m\u001b[0;34m,\u001b[0m \u001b[0mentries\u001b[0m\u001b[0;34m=\u001b[0m\u001b[0;34m(\u001b[0m\u001b[0;34m\"self\"\u001b[0m\u001b[0;34m,\u001b[0m \u001b[0;34m\"__class__\"\u001b[0m\u001b[0;34m,\u001b[0m \u001b[0;34m\"unused_args\"\u001b[0m\u001b[0;34m)\u001b[0m\u001b[0;34m)\u001b[0m\u001b[0;34m\u001b[0m\u001b[0;34m\u001b[0m\u001b[0m\n\u001b[0;32m---> 90\u001b[0;31m         \u001b[0msuper\u001b[0m\u001b[0;34m(\u001b[0m\u001b[0;34m)\u001b[0m\u001b[0;34m.\u001b[0m\u001b[0m__init__\u001b[0m\u001b[0;34m(\u001b[0m\u001b[0;34m**\u001b[0m\u001b[0mkwargs\u001b[0m\u001b[0;34m,\u001b[0m \u001b[0;34m**\u001b[0m\u001b[0munused_args\u001b[0m\u001b[0;34m)\u001b[0m\u001b[0;34m\u001b[0m\u001b[0;34m\u001b[0m\u001b[0m\n\u001b[0m\u001b[1;32m     91\u001b[0m \u001b[0;34m\u001b[0m\u001b[0m\n\u001b[1;32m     92\u001b[0m     def train(\n",
      "\u001b[0;32m~/miniconda3/envs/tf_test/lib/python3.7/site-packages/sbi/inference/snpe/snpe_base.py\u001b[0m in \u001b[0;36m__init__\u001b[0;34m(self, prior, density_estimator, device, logging_level, summary_writer, show_progress_bars, **unused_args)\u001b[0m\n\u001b[1;32m     62\u001b[0m             \u001b[0msummary_writer\u001b[0m\u001b[0;34m=\u001b[0m\u001b[0msummary_writer\u001b[0m\u001b[0;34m,\u001b[0m\u001b[0;34m\u001b[0m\u001b[0;34m\u001b[0m\u001b[0m\n\u001b[1;32m     63\u001b[0m             \u001b[0mshow_progress_bars\u001b[0m\u001b[0;34m=\u001b[0m\u001b[0mshow_progress_bars\u001b[0m\u001b[0;34m,\u001b[0m\u001b[0;34m\u001b[0m\u001b[0;34m\u001b[0m\u001b[0m\n\u001b[0;32m---> 64\u001b[0;31m             \u001b[0;34m**\u001b[0m\u001b[0munused_args\u001b[0m\u001b[0;34m,\u001b[0m\u001b[0;34m\u001b[0m\u001b[0;34m\u001b[0m\u001b[0m\n\u001b[0m\u001b[1;32m     65\u001b[0m         )\n\u001b[1;32m     66\u001b[0m \u001b[0;34m\u001b[0m\u001b[0m\n",
      "\u001b[0;32m~/miniconda3/envs/tf_test/lib/python3.7/site-packages/sbi/inference/base.py\u001b[0m in \u001b[0;36m__init__\u001b[0;34m(self, prior, device, logging_level, summary_writer, show_progress_bars, **unused_args)\u001b[0m\n\u001b[1;32m    116\u001b[0m         \"\"\"\n\u001b[1;32m    117\u001b[0m \u001b[0;34m\u001b[0m\u001b[0m\n\u001b[0;32m--> 118\u001b[0;31m         \u001b[0mself\u001b[0m\u001b[0;34m.\u001b[0m\u001b[0m_device\u001b[0m \u001b[0;34m=\u001b[0m \u001b[0mprocess_device\u001b[0m\u001b[0;34m(\u001b[0m\u001b[0mdevice\u001b[0m\u001b[0;34m,\u001b[0m \u001b[0mprior\u001b[0m\u001b[0;34m=\u001b[0m\u001b[0mprior\u001b[0m\u001b[0;34m)\u001b[0m\u001b[0;34m\u001b[0m\u001b[0;34m\u001b[0m\u001b[0m\n\u001b[0m\u001b[1;32m    119\u001b[0m \u001b[0;34m\u001b[0m\u001b[0m\n\u001b[1;32m    120\u001b[0m         \u001b[0;32mif\u001b[0m \u001b[0munused_args\u001b[0m\u001b[0;34m:\u001b[0m\u001b[0;34m\u001b[0m\u001b[0;34m\u001b[0m\u001b[0m\n",
      "\u001b[0;32m~/miniconda3/envs/tf_test/lib/python3.7/site-packages/sbi/utils/torchutils.py\u001b[0m in \u001b[0;36mprocess_device\u001b[0;34m(device, prior)\u001b[0m\n\u001b[1;32m     39\u001b[0m \u001b[0;34m\u001b[0m\u001b[0m\n\u001b[1;32m     40\u001b[0m     \u001b[0;32mif\u001b[0m \u001b[0mprior\u001b[0m \u001b[0;32mis\u001b[0m \u001b[0;32mnot\u001b[0m \u001b[0;32mNone\u001b[0m\u001b[0;34m:\u001b[0m\u001b[0;34m\u001b[0m\u001b[0;34m\u001b[0m\u001b[0m\n\u001b[0;32m---> 41\u001b[0;31m         \u001b[0mprior_device\u001b[0m \u001b[0;34m=\u001b[0m \u001b[0mprior\u001b[0m\u001b[0;34m.\u001b[0m\u001b[0msample\u001b[0m\u001b[0;34m(\u001b[0m\u001b[0;34m(\u001b[0m\u001b[0;36m1\u001b[0m\u001b[0;34m,\u001b[0m\u001b[0;34m)\u001b[0m\u001b[0;34m)\u001b[0m\u001b[0;34m.\u001b[0m\u001b[0mdevice\u001b[0m\u001b[0;34m\u001b[0m\u001b[0;34m\u001b[0m\u001b[0m\n\u001b[0m\u001b[1;32m     42\u001b[0m         \u001b[0mtraining_device\u001b[0m \u001b[0;34m=\u001b[0m \u001b[0mtorch\u001b[0m\u001b[0;34m.\u001b[0m\u001b[0mzeros\u001b[0m\u001b[0;34m(\u001b[0m\u001b[0;36m1\u001b[0m\u001b[0;34m,\u001b[0m \u001b[0mdevice\u001b[0m\u001b[0;34m=\u001b[0m\u001b[0mdevice\u001b[0m\u001b[0;34m)\u001b[0m\u001b[0;34m.\u001b[0m\u001b[0mdevice\u001b[0m\u001b[0;34m\u001b[0m\u001b[0;34m\u001b[0m\u001b[0m\n\u001b[1;32m     43\u001b[0m         assert (\n",
      "\u001b[0;31mAttributeError\u001b[0m: 'function' object has no attribute 'sample'"
     ]
    }
   ],
   "source": [
    "#Try presimulated data because it feels like we need it\n",
    "number_presimulated = 5\n",
    "simulatory, priory = prepare_for_sbi(simulator, priorUnif)\n",
    "theta_presimulated = priory.sample((number_presimulated,))\n",
    "x_presimulated = simulatory(theta_presimulated)\n",
    "inference = SNPE(simulatory, priory)\n",
    "inference.provide_presimulated(theta_presimulated, x_presimulated, from_round=0)"
   ]
  },
  {
   "cell_type": "code",
   "execution_count": 57,
   "metadata": {},
   "outputs": [
    {
     "data": {
      "text/plain": [
       "tensor([[-1.2064,  1.4801,  0.3955,  0.6805]])"
      ]
     },
     "execution_count": 57,
     "metadata": {},
     "output_type": "execute_result"
    }
   ],
   "source": [
    "priory.sample((1,))"
   ]
  },
  {
   "cell_type": "code",
   "execution_count": 138,
   "metadata": {},
   "outputs": [
    {
     "data": {
      "text/plain": [
       "tensor([0.5000, 0.5000])"
      ]
     },
     "execution_count": 138,
     "metadata": {},
     "output_type": "execute_result"
    }
   ],
   "source": [
    "torch.cat((torch.tensor([0.5]), torch.tensor([0.5])),0)"
   ]
  },
  {
   "cell_type": "code",
   "execution_count": 10,
   "metadata": {},
   "outputs": [
    {
     "data": {
      "application/vnd.jupyter.widget-view+json": {
       "model_id": "973b28276a534842b02ef2ad8c200545",
       "version_major": 2,
       "version_minor": 0
      },
      "text/plain": [
       "Running 1000 simulations.:   0%|          | 0/1000 [00:00<?, ?it/s]"
      ]
     },
     "metadata": {},
     "output_type": "display_data"
    },
    {
     "name": "stdout",
     "output_type": "stream",
     "text": [
      "Neural network successfully converged after 129 epochs.\n"
     ]
    }
   ],
   "source": [
    "posterior = infer(simulator, priorUnif, method='SNPE', num_simulations=1000)"
   ]
  },
  {
   "cell_type": "code",
   "execution_count": 7,
   "metadata": {},
   "outputs": [],
   "source": [
    "\n",
    "observation = simulator(torch.tensor([0, 1, 0.5, 1]))"
   ]
  },
  {
   "cell_type": "code",
   "execution_count": 27,
   "metadata": {},
   "outputs": [
    {
     "name": "stdout",
     "output_type": "stream",
     "text": [
      "Help on dict object:\n",
      "\n",
      "class dict(object)\n",
      " |  dict() -> new empty dictionary\n",
      " |  dict(mapping) -> new dictionary initialized from a mapping object's\n",
      " |      (key, value) pairs\n",
      " |  dict(iterable) -> new dictionary initialized as if via:\n",
      " |      d = {}\n",
      " |      for k, v in iterable:\n",
      " |          d[k] = v\n",
      " |  dict(**kwargs) -> new dictionary initialized with the name=value pairs\n",
      " |      in the keyword argument list.  For example:  dict(one=1, two=2)\n",
      " |  \n",
      " |  Methods defined here:\n",
      " |  \n",
      " |  __contains__(self, key, /)\n",
      " |      True if the dictionary has the specified key, else False.\n",
      " |  \n",
      " |  __delitem__(self, key, /)\n",
      " |      Delete self[key].\n",
      " |  \n",
      " |  __eq__(self, value, /)\n",
      " |      Return self==value.\n",
      " |  \n",
      " |  __ge__(self, value, /)\n",
      " |      Return self>=value.\n",
      " |  \n",
      " |  __getattribute__(self, name, /)\n",
      " |      Return getattr(self, name).\n",
      " |  \n",
      " |  __getitem__(...)\n",
      " |      x.__getitem__(y) <==> x[y]\n",
      " |  \n",
      " |  __gt__(self, value, /)\n",
      " |      Return self>value.\n",
      " |  \n",
      " |  __init__(self, /, *args, **kwargs)\n",
      " |      Initialize self.  See help(type(self)) for accurate signature.\n",
      " |  \n",
      " |  __iter__(self, /)\n",
      " |      Implement iter(self).\n",
      " |  \n",
      " |  __le__(self, value, /)\n",
      " |      Return self<=value.\n",
      " |  \n",
      " |  __len__(self, /)\n",
      " |      Return len(self).\n",
      " |  \n",
      " |  __lt__(self, value, /)\n",
      " |      Return self<value.\n",
      " |  \n",
      " |  __ne__(self, value, /)\n",
      " |      Return self!=value.\n",
      " |  \n",
      " |  __repr__(self, /)\n",
      " |      Return repr(self).\n",
      " |  \n",
      " |  __setitem__(self, key, value, /)\n",
      " |      Set self[key] to value.\n",
      " |  \n",
      " |  __sizeof__(...)\n",
      " |      D.__sizeof__() -> size of D in memory, in bytes\n",
      " |  \n",
      " |  clear(...)\n",
      " |      D.clear() -> None.  Remove all items from D.\n",
      " |  \n",
      " |  copy(...)\n",
      " |      D.copy() -> a shallow copy of D\n",
      " |  \n",
      " |  get(self, key, default=None, /)\n",
      " |      Return the value for key if key is in the dictionary, else default.\n",
      " |  \n",
      " |  items(...)\n",
      " |      D.items() -> a set-like object providing a view on D's items\n",
      " |  \n",
      " |  keys(...)\n",
      " |      D.keys() -> a set-like object providing a view on D's keys\n",
      " |  \n",
      " |  pop(...)\n",
      " |      D.pop(k[,d]) -> v, remove specified key and return the corresponding value.\n",
      " |      If key is not found, d is returned if given, otherwise KeyError is raised\n",
      " |  \n",
      " |  popitem(...)\n",
      " |      D.popitem() -> (k, v), remove and return some (key, value) pair as a\n",
      " |      2-tuple; but raise KeyError if D is empty.\n",
      " |  \n",
      " |  setdefault(self, key, default=None, /)\n",
      " |      Insert key with a value of default if key is not in the dictionary.\n",
      " |      \n",
      " |      Return the value for key if key is in the dictionary, else default.\n",
      " |  \n",
      " |  update(...)\n",
      " |      D.update([E, ]**F) -> None.  Update D from dict/iterable E and F.\n",
      " |      If E is present and has a .keys() method, then does:  for k in E: D[k] = E[k]\n",
      " |      If E is present and lacks a .keys() method, then does:  for k, v in E: D[k] = v\n",
      " |      In either case, this is followed by: for k in F:  D[k] = F[k]\n",
      " |  \n",
      " |  values(...)\n",
      " |      D.values() -> an object providing a view on D's values\n",
      " |  \n",
      " |  ----------------------------------------------------------------------\n",
      " |  Class methods defined here:\n",
      " |  \n",
      " |  fromkeys(iterable, value=None, /) from builtins.type\n",
      " |      Create a new dictionary with keys from iterable and values set to value.\n",
      " |  \n",
      " |  ----------------------------------------------------------------------\n",
      " |  Static methods defined here:\n",
      " |  \n",
      " |  __new__(*args, **kwargs) from builtins.type\n",
      " |      Create and return a new object.  See help(type) for accurate signature.\n",
      " |  \n",
      " |  ----------------------------------------------------------------------\n",
      " |  Data and other attributes defined here:\n",
      " |  \n",
      " |  __hash__ = None\n",
      "\n"
     ]
    }
   ],
   "source": [
    "help(ssms.config.data_generator_config)"
   ]
  },
  {
   "cell_type": "code",
   "execution_count": 14,
   "metadata": {},
   "outputs": [
    {
     "data": {
      "application/vnd.jupyter.widget-view+json": {
       "model_id": "517a181ba38546af892737a7892b9eaa",
       "version_major": 2,
       "version_minor": 0
      },
      "text/plain": [
       "Drawing 10000 posterior samples:   0%|          | 0/10000 [00:00<?, ?it/s]"
      ]
     },
     "metadata": {},
     "output_type": "display_data"
    },
    {
     "data": {
      "image/png": "[encoded data removed]",
      "text/plain": [
       "<Figure size 432x432 with 16 Axes>"
      ]
     },
     "metadata": {
      "needs_background": "light"
     },
     "output_type": "display_data"
    }
   ],
   "source": [
    "samples = posterior.sample((10000,), x=observation)\n",
    "log_probability = posterior.log_prob(samples, x=observation)\n",
    "#low=[-3.0, 0.3, 0.1, 0.0, 0.5], high=[3.0, 2.5, 0.9, 2.0, 0.5]\n",
    "_ = analysis.pairplot(samples, limits=[[-3,3],[.3,2.5],[.1,.9], [0.0,2.0]], figsize=(6,6))"
   ]
  },
  {
   "cell_type": "code",
   "execution_count": 22,
   "metadata": {},
   "outputs": [
    {
     "data": {
      "application/vnd.jupyter.widget-view+json": {
       "model_id": "3fe7d578a98e4f85931f923a5b6f6fbe",
       "version_major": 2,
       "version_minor": 0
      },
      "text/plain": [
       "Drawing 2 posterior samples:   0%|          | 0/2 [00:00<?, ?it/s]"
      ]
     },
     "metadata": {},
     "output_type": "display_data"
    },
    {
     "ename": "TypeError",
     "evalue": "tensor() takes 1 positional argument but 2 were given",
     "output_type": "error",
     "traceback": [
      "\u001b[0;31m---------------------------------------------------------------------------\u001b[0m",
      "\u001b[0;31mTypeError\u001b[0m                                 Traceback (most recent call last)",
      "\u001b[0;32m<ipython-input-22-a08dc81742f5>\u001b[0m in \u001b[0;36m<module>\u001b[0;34m\u001b[0m\n\u001b[1;32m      1\u001b[0m \u001b[0msample_lite\u001b[0m \u001b[0;34m=\u001b[0m \u001b[0mposterior\u001b[0m\u001b[0;34m.\u001b[0m\u001b[0msample\u001b[0m\u001b[0;34m(\u001b[0m\u001b[0;34m(\u001b[0m\u001b[0;36m2\u001b[0m\u001b[0;34m,\u001b[0m\u001b[0;34m)\u001b[0m\u001b[0;34m,\u001b[0m \u001b[0mx\u001b[0m \u001b[0;34m=\u001b[0m \u001b[0mobservation\u001b[0m\u001b[0;34m)\u001b[0m\u001b[0;34m\u001b[0m\u001b[0;34m\u001b[0m\u001b[0m\n\u001b[0;32m----> 2\u001b[0;31m \u001b[0mfullParams\u001b[0m \u001b[0;34m=\u001b[0m \u001b[0mtorch\u001b[0m\u001b[0;34m.\u001b[0m\u001b[0mcat\u001b[0m\u001b[0;34m(\u001b[0m\u001b[0;34m(\u001b[0m\u001b[0msample_lite\u001b[0m\u001b[0;34m,\u001b[0m \u001b[0mtorch\u001b[0m\u001b[0;34m.\u001b[0m\u001b[0mtensor\u001b[0m\u001b[0;34m(\u001b[0m\u001b[0;34m[\u001b[0m\u001b[0;36m0.5\u001b[0m\u001b[0;34m]\u001b[0m\u001b[0;34m,\u001b[0m\u001b[0;34m[\u001b[0m\u001b[0;36m0.5\u001b[0m\u001b[0;34m]\u001b[0m\u001b[0;34m)\u001b[0m\u001b[0;34m)\u001b[0m\u001b[0;34m,\u001b[0m\u001b[0;36m0\u001b[0m\u001b[0;34m)\u001b[0m\u001b[0;34m\u001b[0m\u001b[0;34m\u001b[0m\u001b[0m\n\u001b[0m",
      "\u001b[0;31mTypeError\u001b[0m: tensor() takes 1 positional argument but 2 were given"
     ]
    }
   ],
   "source": [
    "sample_lite = posterior.sample((2,), x = observation)\n",
    "fullParams = torch.cat((sample_lite, torch.tensor([0.5])),0)"
   ]
  },
  {
   "cell_type": "code",
   "execution_count": 19,
   "metadata": {},
   "outputs": [
    {
     "data": {
      "text/plain": [
       "tensor([-0.3023,  0.9663,  0.6194,  1.0445])"
      ]
     },
     "execution_count": 19,
     "metadata": {},
     "output_type": "execute_result"
    }
   ],
   "source": [
    "sample_lite"
   ]
  },
  {
   "cell_type": "code",
   "execution_count": 31,
   "metadata": {},
   "outputs": [],
   "source": [
    "np.random.seed(0)"
   ]
  },
  {
   "cell_type": "code",
   "execution_count": 34,
   "metadata": {},
   "outputs": [
    {
     "data": {
      "text/plain": [
       "{'rts': array([[1.6469953],\n",
       "        [1.5979959],\n",
       "        [1.6899947],\n",
       "        [1.2000003],\n",
       "        [1.6899947]], dtype=float32),\n",
       " 'choices': array([[ 1],\n",
       "        [ 1],\n",
       "        [-1],\n",
       "        [-1],\n",
       "        [-1]], dtype=int32),\n",
       " 'metadata': {'v': array([0.], dtype=float32),\n",
       "  'a': array([1.], dtype=float32),\n",
       "  'z': array([0.5], dtype=float32),\n",
       "  't': array([1.], dtype=float32),\n",
       "  's': 1.0,\n",
       "  'theta': array([0.5], dtype=float32),\n",
       "  'delta_t': 0.0010000000474974513,\n",
       "  'max_t': 20.0,\n",
       "  'n_samples': 5,\n",
       "  'simulator': 'ddm_flexbound',\n",
       "  'boundary_fun_type': 'angle',\n",
       "  'possible_choices': [-1, 1],\n",
       "  'trajectory': array([[ 0.0000000e+00],\n",
       "         [ 5.1344927e-02],\n",
       "         [ 4.8062414e-02],\n",
       "         ...,\n",
       "         [-9.9900000e+02],\n",
       "         [-9.9900000e+02],\n",
       "         [-9.9900000e+02]], dtype=float32),\n",
       "  'boundary': array([ 1.       ,  0.9994537,  0.9989074, ..., -9.924958 , -9.925504 ,\n",
       "         -9.92605  ], dtype=float32),\n",
       "  'model': 'angle'}}"
      ]
     },
     "execution_count": 34,
     "metadata": {},
     "output_type": "execute_result"
    }
   ],
   "source": [
    "ssms.basic_simulators.simulator(theta = [0,1,0.5,1,0.5], n_samples = 5)"
   ]
  },
  {
   "cell_type": "code",
   "execution_count": 33,
   "metadata": {},
   "outputs": [
    {
     "data": {
      "text/plain": [
       "tensor([[ 1.0027,  0.7311,  0.2379,  1.2272],\n",
       "        [-1.0252,  1.0773,  0.7495,  0.9655],\n",
       "        [-0.4154,  0.8641,  0.6490,  1.0522],\n",
       "        ...,\n",
       "        [-0.1593,  0.7707,  0.5746,  1.0858],\n",
       "        [ 0.9653,  0.7604,  0.2518,  1.1882],\n",
       "        [-0.3678,  0.9197,  0.5942,  1.0622]])"
      ]
     },
     "execution_count": 33,
     "metadata": {},
     "output_type": "execute_result"
    }
   ],
   "source": [
    "samples"
   ]
  },
  {
   "cell_type": "code",
   "execution_count": 100,
   "metadata": {},
   "outputs": [
    {
     "data": {
      "text/plain": [
       "<module 'ssms.config' from '/users/avo2/miniconda3/envs/tf_test/lib/python3.7/site-packages/ssms/config/__init__.py'>"
      ]
     },
     "execution_count": 100,
     "metadata": {},
     "output_type": "execute_result"
    }
   ],
   "source": [
    "ssms.config"
   ]
  },
  {
   "cell_type": "code",
   "execution_count": 8,
   "metadata": {},
   "outputs": [],
   "source": [
    "out_tmp = ssms.basic_simulators.simulator(theta = [0, 1, 0.5, 1, 0.5])"
   ]
  },
  {
   "cell_type": "code",
   "execution_count": 102,
   "metadata": {},
   "outputs": [],
   "source": [
    "# TEST STANDARD TRAINING DATA GENERATOR\n",
    "# my_data_config = config.data_generator_config['lan']['cnn']\n",
    "my_data_config = ssms.config.data_generator_config['lan']['mlp']\n",
    "my_data_config['dgp_list'] = 'ddm'\n",
    "my_data_config['n_parameter_sets'] = 100\n",
    "my_data_config['n_samples'] = 1000"
   ]
  },
  {
   "cell_type": "code",
   "execution_count": 103,
   "metadata": {},
   "outputs": [],
   "source": [
    "#my_model_config = config.model_config['glob']\n",
    "my_model_config = ssms.config.model_config['ddm']"
   ]
  },
  {
   "cell_type": "code",
   "execution_count": 104,
   "metadata": {},
   "outputs": [
    {
     "name": "stdout",
     "output_type": "stream",
     "text": [
      "n_cpus used:  32\n",
      "checking:  data/lan_mlp/\n"
     ]
    }
   ],
   "source": [
    "my_dataset_generator = ssms.dataset_generators.data_generator(generator_config = my_data_config,\n",
    "                                                              model_config = my_model_config)"
   ]
  },
  {
   "cell_type": "code",
   "execution_count": 105,
   "metadata": {},
   "outputs": [
    {
     "name": "stdout",
     "output_type": "stream",
     "text": [
      "simulation round: 1  of 10\n",
      "random seed with id: random seed with id:   [17390739, 6]\n",
      "random seed with id:  [316254250, 5][65850329, 1]\n",
      "random seed with id:  [264779535, 4]\n",
      "\n",
      "random seed with id:  random seed with id: random seed with id:  [110630650, 9][264779535, 4]\n",
      "random seed with id:   [336904732, 3][156542784, 7]\n",
      "\n",
      "\n",
      "random seed with id:  [382674174, 10]\n",
      "random seed with id: random seed with id: random seed with id:    [316254250, 5]\n",
      "[313444953, 8][40393967, 2]\n",
      "\n",
      "random seed with id:  [336904732, 3]\n",
      "random seed with id:  [316254250, 5]\n",
      "random seed with id:  [336904732, 3]\n",
      "simulation round: 2  of 10\n",
      "random seed with id: random seed with id: random seed with id: random seed with id:  [128557941, 16]\n",
      " [316284078, 14] random seed with id:  [151090325, 12]\n",
      "random seed with id:  [21145272, 18]\n",
      "\n",
      " random seed with id: [224492078, 13] [265607345, 19]\n",
      "random seed with id: \n",
      "[208675312, 15] [351707079, 20]\n",
      "random seed with id:  [102738516, 11]\n",
      "\n",
      "random seed with id: random seed with id:   random seed with id: [21145272, 18][265607345, 19]\n",
      "\n",
      "random seed with id:  [351707079, 20] \n",
      "[208675312, 15]\n",
      "random seed with id:  [284062611, 17]\n",
      "random seed with id:  [265607345, 19]\n",
      "random seed with id:  [151090325, 12]\n",
      "random seed with id:  [151090325, 12]\n",
      "random seed with id:  [151090325, 12]\n",
      "simulation round: 3  of 10\n",
      "random seed with id:  random seed with id: random seed with id: random seed with id:  [28737590, 25]\n",
      " [159487989, 22]random seed with id: [228734527, 24]\n",
      "random seed with id: \n",
      " [32647190, 23] random seed with id:  \n",
      "[301481703, 21][27031430, 27] \n",
      "[316763953, 29]\n",
      "\n",
      "random seed with id:  random seed with id:  [159487989, 22]\n",
      "[171507315, 26]\n",
      "random seed with id:  [359699933, 30]\n",
      "random seed with id:  [221169526, 28]\n",
      "random seed with id:  [171507315, 26]\n",
      "random seed with id:  [159487989, 22]\n",
      "random seed with id:  [171507315, 26]\n",
      "simulation round: 4  of 10\n",
      "random seed with id: random seed with id: random seed with id: random seed with id:  random seed with id:   [43917554, 36][232675388, 38]\n",
      "random seed with id: [228125974, 32]  [265980744, 31]\n",
      "\n",
      " [297654993, 34]\n",
      "[211080449, 33]\n",
      "\n",
      "random seed with id:  random seed with id:  [295635233, 40][49786542, 39]\n",
      "\n",
      "random seed with id:  [265980744, 31]\n",
      "random seed with id: random seed with id:   [231812070, 37]\n",
      "[295635233, 40]\n",
      "random seed with id:  [2893981, 35]\n",
      "simulation round: 5  of 10\n",
      "random seed with id: random seed with id:  random seed with id: random seed with id:    [126118729, 43]random seed with id:  [241777790, 41][225099851, 45]\n",
      "\n",
      "[74717928, 44]\n",
      "random seed with id: \n",
      "random seed with id: [121648131, 42]\n",
      " [225099851, 45] random seed with id: random seed with id:  [286953332, 47]\n",
      "\n",
      "[279488251, 49]random seed with id:  [141831945, 50]\n",
      "random seed with id: \n",
      " random seed with id: [26839108, 48] [121648131, 42]\n",
      "\n",
      " [286953332, 47]\n",
      "random seed with id:  [335667162, 46]\n",
      "simulation round: 6  of 10\n",
      "random seed with id:  [188608862, 52]\n",
      "random seed with id:  random seed with id: random seed with id: [379665713, 59]  random seed with id: [28761605, 53]\n",
      " [274673222, 58]\n",
      "random seed with id: \n",
      "[369194070, 51]\n",
      " [163952910, 57]random seed with id: random seed with id:  [12217121, 60]\n",
      " \n",
      "[18574951, 55]random seed with id:  [136327857, 54]random seed with id: \n",
      " [163952910, 57]\n",
      "\n",
      "random seed with id:  [379665713, 59]random seed with id: \n",
      " random seed with id:  [163952910, 57][28761605, 53]\n",
      "\n",
      "random seed with id:  [163952910, 57]\n",
      "random seed with id:  [12217121, 60]\n",
      "random seed with id:  [176227318, 56]\n",
      "random seed with id:  [379665713, 59]\n",
      "random seed with id:  [163952910, 57]\n",
      "simulation round: 7  of 10\n",
      "random seed with id: random seed with id: random seed with id: random seed with id:  random seed with id: [5616097, 63] \n",
      "   random seed with id: [273729865, 62]\n",
      " [324250839, 67] random seed with id: [155996192, 68][268080271, 69][35403838, 61][370746449, 66]\n",
      "\n",
      "\n",
      "random seed with id: random seed with id: \n",
      " \n",
      "random seed with id:  [58188796, 64]\n",
      "[375774451, 70]random seed with id:   [155996192, 68]\n",
      "[197214628, 65]\n",
      "\n",
      "random seed with id:  [197214628, 65]\n",
      "random seed with id:  [268080271, 69]\n",
      "random seed with id:  [375774451, 70]\n",
      "random seed with id:  [375774451, 70]\n",
      "random seed with id:  [375774451, 70]\n",
      "random seed with id:  [375774451, 70]\n",
      "simulation round: 8  of 10\n",
      "random seed with id:  random seed with id: random seed with id: random seed with id:  [205782404, 73]\n",
      "  [234203398, 72][282784317, 75]\n",
      "[134422822, 76]random seed with id:  [190266209, 80]\n",
      "\n",
      "random seed with id: \n",
      " random seed with id: [205782404, 73] random seed with id: \n",
      "[343453315, 78]\n",
      "random seed with id:   [274526232, 79][53431752, 71]\n",
      "random seed with id: \n",
      "random seed with id:  random seed with id: [343453315, 78][151630217, 74]  [190266209, 80]random seed with id: \n",
      " \n",
      "\n",
      "[205782404, 73]\n",
      "random seed with id:  [190266209, 80]\n",
      "random seed with id:  [323487773, 77]\n",
      "random seed with id:  [190266209, 80]\n",
      "simulation round: 9  of 10\n",
      "random seed with id:  random seed with id: random seed with id: [25222098, 84]  random seed with id: \n",
      " [314935095, 89][333796055, 90]\n",
      "random seed with id: \n",
      "random seed with id:  [170340349, 81][190314620, 85] \n",
      "random seed with id: [55992377, 83] \n",
      "\n",
      "random seed with id: [125043638, 88]\n",
      " random seed with id:  [76348967, 82]\n",
      "random seed with id: random seed with id: [333796055, 90] \n",
      " [55992377, 83]\n",
      "[125043638, 88]\n",
      "random seed with id:  random seed with id: [376069071, 86] [290374666, 87]\n",
      "random seed with id:  [190314620, 85]\n",
      "\n",
      "random seed with id:  [125043638, 88]\n",
      "random seed with id:  [125043638, 88]\n",
      "simulation round: 10  of 10\n",
      "random seed with id: random seed with id: random seed with id:    [243304510, 98]random seed with id: [292040468, 94][7022010, 96]\n",
      " \n",
      "\n",
      "[203698019, 95]\n",
      "random seed with id:  random seed with id: [64961503, 100]\n",
      " [268265589, 92]\n",
      "random seed with id: random seed with id: random seed with id:   [154024489, 93]\n",
      "[264812992, 99]\n",
      " [132579574, 91]\n",
      "random seed with id:  [59269176, 97]\n",
      "random seed with id:  [203698019, 95]\n"
     ]
    }
   ],
   "source": [
    "x = my_dataset_generator.generate_data_training_uniform(save = False)"
   ]
  },
  {
   "cell_type": "code",
   "execution_count": 106,
   "metadata": {},
   "outputs": [
    {
     "data": {
      "text/plain": [
       "{'data': array([[ 2.6612291 ,  0.9237786 ,  0.42995626,  1.0702913 ,  1.4742373 ,\n",
       "         -1.        ],\n",
       "        [ 2.6612291 ,  0.9237786 ,  0.42995626,  1.0702913 ,  1.4209061 ,\n",
       "         -1.        ],\n",
       "        [ 2.6612291 ,  0.9237786 ,  0.42995626,  1.0702913 ,  1.3586011 ,\n",
       "         -1.        ],\n",
       "        ...,\n",
       "        [-0.5918269 ,  1.1889672 ,  0.79714155,  1.7495505 , -0.2819129 ,\n",
       "         -1.        ],\n",
       "        [-0.5918269 ,  1.1889672 ,  0.79714155,  1.7495505 , -0.79585326,\n",
       "         -1.        ],\n",
       "        [-0.5918269 ,  1.1889672 ,  0.79714155,  1.7495505 , -0.6448452 ,\n",
       "          1.        ]], dtype=float32),\n",
       " 'labels': array([ -4.332192 ,  -4.116231 ,  -3.8974938, ..., -66.77497  ,\n",
       "        -66.77497  , -66.77497  ], dtype=float32),\n",
       " 'generator_config': {'output_folder': 'data/lan_mlp/',\n",
       "  'dgp_list': 'ddm',\n",
       "  'nbins': 0,\n",
       "  'n_samples': 1000,\n",
       "  'n_parameter_sets': 100,\n",
       "  'n_parameter_sets_rejected': 100,\n",
       "  'n_training_samples_by_parameter_set': 1000,\n",
       "  'max_t': 20.0,\n",
       "  'delta_t': 0.001,\n",
       "  'pickleprotocol': 4,\n",
       "  'n_cpus': 32,\n",
       "  'kde_data_mixture_probabilities': [0.8, 0.1, 0.1],\n",
       "  'simulation_filters': {'mode': 20,\n",
       "   'choice_cnt': 5,\n",
       "   'mean_rt': 15,\n",
       "   'std': 0,\n",
       "   'mode_cnt_rel': 0.6},\n",
       "  'negative_rt_cutoff': -66.77497,\n",
       "  'n_subruns': 10,\n",
       "  'bin_pointwise': False,\n",
       "  'separate_response_channels': False},\n",
       " 'model_config': {'name': 'ddm',\n",
       "  'params': ['v', 'a', 'z', 't'],\n",
       "  'param_bounds': [[-3.0, 0.3, 0.1, 0.0], [3.0, 2.5, 0.9, 2.0]],\n",
       "  'boundary': <function ssms.basic_simulators.boundary_functions.constant(t=0)>,\n",
       "  'n_params': 4,\n",
       "  'default_params': [0.0, 1.0, 0.5, 0.001],\n",
       "  'hddm_include': ['z'],\n",
       "  'nchoices': 2}}"
      ]
     },
     "execution_count": 106,
     "metadata": {},
     "output_type": "execute_result"
    }
   ],
   "source": [
    "x"
   ]
  },
  {
   "cell_type": "code",
   "execution_count": null,
   "metadata": {},
   "outputs": [],
   "source": []
  }
 ],
 "metadata": {
  "kernelspec": {
   "display_name": "tf_test",
   "language": "python",
   "name": "tf_test"
  },
  "language_info": {
   "codemirror_mode": {
    "name": "ipython",
    "version": 3
   },
   "file_extension": ".py",
   "mimetype": "text/x-python",
   "name": "python",
   "nbconvert_exporter": "python",
   "pygments_lexer": "ipython3",
   "version": "3.7.11"
  }
 },
 "nbformat": 4,
 "nbformat_minor": 4
}
