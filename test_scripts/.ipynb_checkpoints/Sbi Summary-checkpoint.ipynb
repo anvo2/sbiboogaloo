{
 "cells": [
  {
   "cell_type": "code",
   "execution_count": 1,
   "id": "9d3bce17-8420-4a69-a4ee-6d66464f8a49",
   "metadata": {},
   "outputs": [
    {
     "data": {
      "text/plain": [
       "<torch._C.Generator at 0x7f73e80e2e30>"
      ]
     },
     "execution_count": 1,
     "metadata": {},
     "output_type": "execute_result"
    }
   ],
   "source": [
    "import matplotlib.pyplot as plt\n",
    "import numpy as np\n",
    "import torch\n",
    "import torch.nn as nn \n",
    "import torch.nn.functional as F \n",
    "from sbi import utils\n",
    "from sbi import analysis\n",
    "from sbi import inference\n",
    "from sbi.inference import SNPE, simulate_for_sbi, prepare_for_sbi\n",
    "import numpy as np\n",
    "\n",
    "# set seed for numpy and torch\n",
    "seed = 42\n",
    "np.random.seed(seed)\n",
    "torch.manual_seed(seed)"
   ]
  },
  {
   "cell_type": "markdown",
   "id": "aabcfc70-2f13-49a3-aa86-db713c3d034b",
   "metadata": {},
   "source": [
    "Invariant Module\n"
   ]
  },
  {
   "cell_type": "code",
   "execution_count": 69,
   "id": "82ab939f-bf6b-4c7b-b5a6-ef3717bc0f3f",
   "metadata": {},
   "outputs": [],
   "source": [
    "class InvariantModule(nn.Module):\n",
    "    \"\"\"Implements an invariant module with keras.\"\"\"\n",
    "    \n",
    "    def __init__(self, meta=meta_dict, input_dim = 1024):\n",
    "        super(InvariantModule, self).__init__()\n",
    "        \n",
    "        #self.s1 = Sequential([Dense(**meta['dense_s1_args']) for _ in range(meta['n_dense_s1'])])\n",
    "        #self.s2 = Sequential([Dense(**meta['dense_s2_args']) for _ in range(meta['n_dense_s2'])])\n",
    "        self.input_dim = input_dim\n",
    "        self.s1 = nn.Sequential(nn.Linear(in_features = self.input_dim, out_features=32), nn.ReLU(), nn.Linear(in_features= 32, out_features=32), nn.ReLU())\n",
    "        self.s2 = nn.Sequential(nn.Linear(in_features=32, out_features=64), nn.ReLU(), nn.Linear(in_features=64, out_features=64), nn.ReLU())\n",
    "    def call(self, x):\n",
    "        \"\"\"Performs the forward pass of a learnable invariant transform.\n",
    "        \n",
    "        Parameters\n",
    "        ----------\n",
    "        x : tf.Tensor\n",
    "            Input of shape (batch_size, N, x_dim)\n",
    "        \n",
    "        Returns\n",
    "        -------\n",
    "        out : tf.Tensor\n",
    "            Output of shape (batch_size, out_dim)\n",
    "        \"\"\"\n",
    "        x_reduced = torch.mean(self.s1(x), axis=1)\n",
    "        out = self.s2(x_reduced)\n",
    "        return out\n",
    "\n",
    "class EquivariantModule(nn.Module):\n",
    "    \"\"\"Implements an equivariant module with keras.\"\"\"\n",
    "    \n",
    "    def __init__(self, meta=meta_dict, input_dim=1024):\n",
    "        super(EquivariantModule, self).__init__()\n",
    "        self.input_dim=input_dim\n",
    "        self.invariant_module = InvariantModule(meta, input_dim = self.input_dim)\n",
    "        print('Finished creating Invariant Module')\n",
    "        self.s3 = nn.Sequential(nn.Linear(in_features = self.input_dim + 64, out_features=32), nn.ReLU(), nn.Linear(in_features= 32, out_features=32), nn.ReLU())\n",
    "                    \n",
    "    def call(self, x):\n",
    "        \"\"\"Performs the forward pass of a learnable equivariant transform.\n",
    "        \n",
    "        Parameters\n",
    "        ----------\n",
    "        x : tf.Tensor\n",
    "            Input of shape (batch_size, N, x_dim)\n",
    "        \n",
    "        Returns\n",
    "        -------\n",
    "        out : tf.Tensor\n",
    "            Output of shape (batch_size, N, equiv_dim)\n",
    "        \"\"\"\n",
    "        \n",
    "        # Store N\n",
    "        N = int(x.shape[1])\n",
    "        \n",
    "        # Output dim is (batch_size, inv_dim) - > (batch_size, N, inv_dim)\n",
    "        out_inv = self.invariant_module.call(x)\n",
    "        out_inv_rep = torch.stack([out_inv] * N, axis=1)\n",
    "        \n",
    "        # Concatenate each x with the repeated invariant embedding\n",
    "        out_c = torch.cat([x, out_inv_rep], axis=-1)\n",
    "        \n",
    "        # Pass through equivariant func\n",
    "        out = self.s3(out_c)\n",
    "        return out\n",
    "\n",
    "class InvariantNetwork(nn.Module):\n",
    "    \"\"\"Implements an invariant network with keras.\n",
    "    \"\"\"\n",
    "\n",
    "    def __init__(self, meta={}, input_dim=1024):\n",
    "        super(InvariantNetwork, self).__init__()\n",
    "\n",
    "        #meta = build_meta_dict(user_dict=meta,\n",
    "                               #default_setting=default_settings.DEFAULT_SETTING_INVARIANT_NET)\n",
    "        self.input_dim = input_dim\n",
    "        self.equiv_seq1 = EquivariantModule()\n",
    "        self.equiv_seq2 = EquivariantModule(input_dim=32)\n",
    "        self.inv = InvariantModule(input_dim=32)\n",
    "    \n",
    "    def __call__(self, x):\n",
    "        \"\"\" Performs the forward pass of a learnable deep invariant transformation consisting of\n",
    "        a sequence of equivariant transforms followed by an invariant transform.\n",
    "        \n",
    "        Parameters\n",
    "        ----------\n",
    "        x : tf.Tensor\n",
    "            Input of shape (batch_size, n_obs, data_dim)\n",
    "        \n",
    "        Returns\n",
    "        -------\n",
    "        out : tf.Tensor\n",
    "            Output of shape (batch_size, out_dim + 1)\n",
    "        \"\"\"\n",
    "        \n",
    "        # Extract n_obs and create sqrt(N) vector\n",
    "        N = int(x.shape[1])\n",
    "        N_rep = torch.sqrt(N * torch.ones((x.shape[0], 1)))\n",
    "\n",
    "        # Pass through series of augmented equivariant transforms\n",
    "        out_equiv = self.equiv_seq2.call(self.equiv_seq1.call(x))\n",
    "\n",
    "        # Pass through final invariant layer and concatenate with N_rep\n",
    "        out_inv = self.inv.call(out_equiv)\n",
    "        out = torch.cat((out_inv, N_rep), axis=-1)\n",
    "\n",
    "        return out"
   ]
  },
  {
   "cell_type": "code",
   "execution_count": 70,
   "id": "d56377b3-ab43-43a0-a0c7-b5f6202da765",
   "metadata": {},
   "outputs": [],
   "source": [
    " def simulator_model(parameter, return_points=False):\n",
    "    \"\"\" Simulator model with two-dimensional input parameter and 1024-dimensional output\n",
    "\n",
    "    This simulator serves as a basic example for using a neural net for learning summary features. \n",
    "    It has only two input parameters but generates high-dimensional output vectors.\n",
    "    The data is generated as follows:\n",
    "        (-) Input:  parameter = [r, theta]\n",
    "        (1) Generate 100 two-dimensional points centered around (r cos(theta),r sin(theta))  \n",
    "            and perturbed by a Gaussian noise with variance 0.01\n",
    "        (2) Create a grayscale image I of the scattered points with dimensions 32 by 32\n",
    "        (3) Perturb I with an uniform noise with values betweeen 0 and 0.2\n",
    "        (-) Output: I \n",
    "\n",
    "    Parameters\n",
    "    ----------\n",
    "    parameter : array-like, shape (2)\n",
    "        The two input parameters of the model, ordered as [r, theta]\n",
    "    return_points : bool (default: False)\n",
    "        Whether the simulator should return the coordinates of the simulated data points as well\n",
    "\n",
    "    Returns\n",
    "    -------\n",
    "    I: torch tensor, shape (1, 1024)    \n",
    "        Output flattened image\n",
    "    (optional) points: array-like, shape (100, 2)\n",
    "        Coordinates of the 2D simulated data points \n",
    "\n",
    "    \"\"\"\n",
    "    r = parameter[0]\n",
    "    theta = parameter[1]\n",
    "\n",
    "    sigma_points = 0.10\n",
    "    npoints = 100\n",
    "    points = []\n",
    "    for _ in range(npoints):\n",
    "        x = r * np.cos(theta) + sigma_points * np.random.randn()\n",
    "        y = r * np.sin(theta) + sigma_points * np.random.randn()\n",
    "        points.append([x, y])\n",
    "    points = np.array(points)\n",
    "\n",
    "    nx = 32\n",
    "    ny = 32\n",
    "    sigma_image = 0.20\n",
    "    I = np.zeros((nx, ny))\n",
    "    for point in points:\n",
    "        pi = int((point[0] - (-1)) / ((+1) - (-1)) * nx)\n",
    "        pj = int((point[1] - (-1)) / ((+1) - (-1)) * ny) \n",
    "        if (pi < nx) and (pj < ny):   \n",
    "            I[pi, pj] = 1\n",
    "    I = I + sigma_image * np.random.rand(nx, ny)    \n",
    "    I = I.T\n",
    "    I = I.reshape(1,-1)\n",
    "    I = torch.tensor(I, dtype=torch.get_default_dtype())\n",
    "\n",
    "    if return_points:\n",
    "        return I, points\n",
    "    else:\n",
    "        return I\n"
   ]
  },
  {
   "cell_type": "code",
   "execution_count": 71,
   "id": "ceafc527-5f48-4700-adba-e57fe808e205",
   "metadata": {},
   "outputs": [
    {
     "data": {
      "text/plain": [
       "Text(0.5, 1.0, 'noisy observed data (gray image with 32 x 32 pixels)')"
      ]
     },
     "execution_count": 71,
     "metadata": {},
     "output_type": "execute_result"
    },
    {
     "data": {
      "image/png": "[encoded data removed]",
      "text/plain": [
       "<Figure size 802.8x403.92 with 2 Axes>"
      ]
     },
     "metadata": {},
     "output_type": "display_data"
    }
   ],
   "source": [
    "# simulate samples\n",
    "true_parameter = torch.tensor([0.70, np.pi/4])\n",
    "x_observed, x_points = simulator_model(true_parameter, return_points=True)\n",
    "\n",
    "# plot the observation\n",
    "fig, ax = plt.subplots(facecolor='white', figsize=(11.15, 5.61), ncols=2, constrained_layout=True)\n",
    "circle = plt.Circle((0, 0), 1.0, color='k', ls='--', lw=0.8, fill=False)\n",
    "ax[0].add_artist(circle)\n",
    "ax[0].scatter(x_points[:,0], x_points[:,1], s=20)\n",
    "ax[0].set_xlabel('x')\n",
    "ax[0].set_ylabel('y')\n",
    "ax[0].set_xlim(-1, +1)\n",
    "ax[0].set_xticks([-1, 0.0, +1.0])\n",
    "ax[0].set_ylim(-1, +1)\n",
    "ax[0].set_yticks([-1, 0.0, +1.0])\n",
    "ax[0].set_title(r'original simulated points with $r = 0.70$ and $\\theta = \\pi/4$')\n",
    "ax[1].imshow(x_observed.view(32, 32), origin='lower', cmap='gray')\n",
    "ax[1].set_xticks([]); ax[1].set_yticks([])\n",
    "ax[1].set_title('noisy observed data (gray image with 32 x 32 pixels)')\n"
   ]
  },
  {
   "cell_type": "code",
   "execution_count": 72,
   "id": "21340655-c42e-4a30-9a4c-dae39e7884f3",
   "metadata": {},
   "outputs": [
    {
     "data": {
      "text/plain": [
       "(100, 2)"
      ]
     },
     "execution_count": 72,
     "metadata": {},
     "output_type": "execute_result"
    }
   ],
   "source": [
    "x_points.shape"
   ]
  },
  {
   "cell_type": "code",
   "execution_count": 73,
   "id": "f02a9acb-f380-468e-95d8-47fdd8f367ab",
   "metadata": {},
   "outputs": [
    {
     "name": "stdout",
     "output_type": "stream",
     "text": [
      "Finished creating Invariant Module\n",
      "Finished creating Invariant Module\n"
     ]
    }
   ],
   "source": [
    "class SummaryNet(nn.Module): \n",
    "\n",
    "    def __init__(self): \n",
    "        super().__init__()\n",
    "        # 2D convolutional layer\n",
    "        self.conv1 = nn.Conv2d(in_channels=1, out_channels=6, kernel_size=5, padding=2)\n",
    "        # Maxpool layer that reduces 32x32 image to 4x4\n",
    "        self.pool = nn.MaxPool2d(kernel_size=8, stride=8)\n",
    "        # Fully connected layer taking as input the 6 flattened output arrays from the maxpooling layer\n",
    "        self.fc = nn.Linear(in_features=6*4*4, out_features=8) \n",
    "\n",
    "    def forward(self, x):\n",
    "        x = x.view(-1, 1, 32, 32)\n",
    "        x = self.pool(F.relu(self.conv1(x)))\n",
    "        x = x.view(-1, 6*4*4)\n",
    "        x = F.relu(self.fc(x))\n",
    "        return x\n",
    "\n",
    "embedding_net = InvariantNetwork()\n"
   ]
  },
  {
   "cell_type": "code",
   "execution_count": 74,
   "id": "f1004406-d33c-4c86-8f7f-3bef10733e1d",
   "metadata": {},
   "outputs": [
    {
     "name": "stderr",
     "output_type": "stream",
     "text": [
      "/users/avo2/miniconda3/envs/debugsbi2/lib/python3.7/site-packages/ipykernel_launcher.py:39: FutureWarning: The input object of type 'Tensor' is an array-like implementing one of the corresponding protocols (`__array__`, `__array_interface__` or `__array_struct__`); but not a sequence (or 0-D). In the future, this object will be coerced as if it was first converted using `np.array(obj)`. To retain the old behaviour, you have to either modify the type 'Tensor', or assign to an empty array created with `np.empty(correct_shape, dtype=object)`.\n",
      "/users/avo2/miniconda3/envs/debugsbi2/lib/python3.7/site-packages/ipykernel_launcher.py:39: VisibleDeprecationWarning: Creating an ndarray from ragged nested sequences (which is a list-or-tuple of lists-or-tuples-or ndarrays with different lengths or shapes) is deprecated. If you meant to do this, you must specify 'dtype=object' when creating the ndarray.\n"
     ]
    },
    {
     "data": {
      "application/vnd.jupyter.widget-view+json": {
       "model_id": "b1b790960cf44ed981d45bfd164f01a8",
       "version_major": 2,
       "version_minor": 0
      },
      "text/plain": [
       "Running 10000 simulations.:   0%|          | 0/10000 [00:00<?, ?it/s]"
      ]
     },
     "metadata": {},
     "output_type": "display_data"
    },
    {
     "name": "stdout",
     "output_type": "stream",
     "text": [
      "Neural network successfully converged after 30 epochs.\n"
     ]
    }
   ],
   "source": [
    "# set prior distribution for the parameters \n",
    "prior = utils.BoxUniform(low=torch.tensor([0.0, 0.0]), \n",
    "                             high=torch.tensor([1.0, 2*np.pi]))                           \n",
    "\n",
    "# make a SBI-wrapper on the simulator object for compatibility\n",
    "simulator_wrapper, prior = prepare_for_sbi(simulator_model, prior)\n",
    "\n",
    "# instantiate the neural density estimator\n",
    "neural_posterior = utils.posterior_nn(model='maf', \n",
    "                                      embedding_net=embedding_net,\n",
    "                                      hidden_features=10,\n",
    "                                      num_transforms=2)\n",
    "\n",
    "# setup the inference procedure with the SNPE-C procedure\n",
    "inference = SNPE(prior=prior, density_estimator=neural_posterior)\n",
    "\n",
    "# run the inference procedure on one round and 10000 simulated data points\n",
    "theta, x = simulate_for_sbi(simulator_wrapper, prior, num_simulations=10000)\n",
    "x = torch.reshape(x, [10000,1, 1024])\n",
    "density_estimator = inference.append_simulations(theta, x).train()\n",
    "posterior = inference.build_posterior(density_estimator)\n"
   ]
  },
  {
   "cell_type": "code",
   "execution_count": 76,
   "id": "a51c8a5e-0548-494c-924e-56e7546c90ee",
   "metadata": {},
   "outputs": [
    {
     "data": {
      "application/vnd.jupyter.widget-view+json": {
       "model_id": "0593492b52c94e63ae0b96f939d29751",
       "version_major": 2,
       "version_minor": 0
      },
      "text/plain": [
       "Drawing 50000 posterior samples:   0%|          | 0/50000 [00:00<?, ?it/s]"
      ]
     },
     "metadata": {},
     "output_type": "display_data"
    }
   ],
   "source": [
    "# generate posterior samples\n",
    "true_parameter = torch.tensor([0.70, np.pi/4])\n",
    "x_observed = simulator_model(true_parameter)\n",
    "x_observed = x_observed.reshape([1,1,1024])\n",
    "samples = posterior.set_default_x(x_observed).sample((50000,))"
   ]
  },
  {
   "cell_type": "code",
   "execution_count": 77,
   "id": "86dda6c7-c508-458f-8e74-ba056fb9abed",
   "metadata": {},
   "outputs": [
    {
     "data": {
      "image/png": "[encoded data removed]",
      "text/plain": [
       "<Figure size 540x460.8 with 4 Axes>"
      ]
     },
     "metadata": {
      "needs_background": "light"
     },
     "output_type": "display_data"
    }
   ],
   "source": [
    "# create the figure\n",
    "fig, ax = analysis.pairplot(samples, \n",
    "                             points=true_parameter,\n",
    "                             labels=['r', r'$\\theta$'], \n",
    "                             limits=[[0, 1], [0, 2*np.pi]],\n",
    "                             points_colors='r',\n",
    "                             points_offdiag={'markersize': 6},\n",
    "                             figsize=[7.5, 6.4])"
   ]
  },
  {
   "cell_type": "code",
   "execution_count": 56,
   "id": "771c3652-d3d0-4f46-b6ac-06df9f388c22",
   "metadata": {},
   "outputs": [
    {
     "name": "stdout",
     "output_type": "stream",
     "text": [
      "Finished creating Invariant Module\n",
      "Finished creating Invariant Module\n"
     ]
    }
   ],
   "source": [
    "meta_dict={\n",
    "        'n_dense_s1': 2,\n",
    "        'n_dense_s2': 2,\n",
    "        'n_dense_s3': 2,\n",
    "        'n_equiv':    2,\n",
    "        'dense_s1_args': {'in_features':1024, 'out_features': 32},\n",
    "        'dense_s2_args': {'in_features':1024,  'out_features': 64},\n",
    "        'dense_s3_args': {'in_features':1024, 'out_features': 32}\n",
    "    }\n",
    "equiv = InvariantNetwork(meta = meta_dict)"
   ]
  },
  {
   "cell_type": "code",
   "execution_count": 57,
   "id": "16ab95e5-0537-49d2-b512-96ffa4fca0a7",
   "metadata": {},
   "outputs": [
    {
     "data": {
      "text/plain": [
       "torch.Size([10, 1000, 1024])"
      ]
     },
     "execution_count": 57,
     "metadata": {},
     "output_type": "execute_result"
    }
   ],
   "source": [
    "reshaped_x = torch.reshape(x, [10,1000, 1024])\n",
    "reshaped_x.shape"
   ]
  },
  {
   "cell_type": "code",
   "execution_count": 58,
   "id": "f42a36bc-01e1-4da5-961b-1f97a7d05979",
   "metadata": {},
   "outputs": [
    {
     "name": "stdout",
     "output_type": "stream",
     "text": [
      "torch.Size([10, 1000, 1024])\n",
      "torch.Size([10, 32])\n",
      "torch.Size([10, 64])\n",
      "torch.Size([10, 1000, 32])\n",
      "torch.Size([10, 32])\n",
      "torch.Size([10, 64])\n",
      "torch.Size([10, 1000, 32])\n",
      "torch.Size([10, 32])\n",
      "torch.Size([10, 64])\n"
     ]
    },
    {
     "data": {
      "text/plain": [
       "tensor([[7.7750e-02, 0.0000e+00, 0.0000e+00, 0.0000e+00, 0.0000e+00, 0.0000e+00,\n",
       "         1.7544e-02, 2.2613e-02, 7.1941e-02, 0.0000e+00, 0.0000e+00, 0.0000e+00,\n",
       "         0.0000e+00, 0.0000e+00, 4.5789e-02, 0.0000e+00, 7.4544e-03, 4.1590e-03,\n",
       "         1.7318e-01, 0.0000e+00, 0.0000e+00, 2.4878e-02, 1.8642e-01, 0.0000e+00,\n",
       "         0.0000e+00, 0.0000e+00, 0.0000e+00, 6.8303e-06, 0.0000e+00, 9.0965e-02,\n",
       "         0.0000e+00, 0.0000e+00, 0.0000e+00, 4.1436e-02, 0.0000e+00, 0.0000e+00,\n",
       "         0.0000e+00, 0.0000e+00, 0.0000e+00, 2.0893e-01, 2.6902e-02, 0.0000e+00,\n",
       "         8.7160e-02, 0.0000e+00, 6.2636e-02, 0.0000e+00, 0.0000e+00, 5.9866e-02,\n",
       "         0.0000e+00, 4.7270e-02, 2.2553e-02, 0.0000e+00, 1.5931e-01, 0.0000e+00,\n",
       "         0.0000e+00, 0.0000e+00, 0.0000e+00, 1.2239e-02, 9.3232e-02, 0.0000e+00,\n",
       "         7.9786e-02, 0.0000e+00, 0.0000e+00, 0.0000e+00, 3.1623e+01],\n",
       "        [7.7746e-02, 0.0000e+00, 0.0000e+00, 0.0000e+00, 0.0000e+00, 0.0000e+00,\n",
       "         1.7539e-02, 2.2617e-02, 7.1944e-02, 0.0000e+00, 0.0000e+00, 0.0000e+00,\n",
       "         0.0000e+00, 0.0000e+00, 4.5788e-02, 0.0000e+00, 7.4581e-03, 4.1558e-03,\n",
       "         1.7318e-01, 0.0000e+00, 0.0000e+00, 2.4883e-02, 1.8641e-01, 0.0000e+00,\n",
       "         0.0000e+00, 0.0000e+00, 0.0000e+00, 1.0135e-05, 0.0000e+00, 9.0967e-02,\n",
       "         0.0000e+00, 0.0000e+00, 0.0000e+00, 4.1436e-02, 0.0000e+00, 0.0000e+00,\n",
       "         0.0000e+00, 0.0000e+00, 0.0000e+00, 2.0893e-01, 2.6901e-02, 0.0000e+00,\n",
       "         8.7158e-02, 0.0000e+00, 6.2636e-02, 0.0000e+00, 0.0000e+00, 5.9858e-02,\n",
       "         0.0000e+00, 4.7266e-02, 2.2552e-02, 0.0000e+00, 1.5930e-01, 0.0000e+00,\n",
       "         0.0000e+00, 0.0000e+00, 0.0000e+00, 1.2242e-02, 9.3229e-02, 0.0000e+00,\n",
       "         7.9779e-02, 0.0000e+00, 0.0000e+00, 0.0000e+00, 3.1623e+01],\n",
       "        [7.7756e-02, 0.0000e+00, 0.0000e+00, 0.0000e+00, 0.0000e+00, 0.0000e+00,\n",
       "         1.7545e-02, 2.2610e-02, 7.1937e-02, 0.0000e+00, 0.0000e+00, 0.0000e+00,\n",
       "         0.0000e+00, 0.0000e+00, 4.5789e-02, 0.0000e+00, 7.4495e-03, 4.1612e-03,\n",
       "         1.7318e-01, 0.0000e+00, 0.0000e+00, 2.4871e-02, 1.8642e-01, 0.0000e+00,\n",
       "         0.0000e+00, 0.0000e+00, 0.0000e+00, 1.9008e-06, 0.0000e+00, 9.0963e-02,\n",
       "         0.0000e+00, 0.0000e+00, 0.0000e+00, 4.1439e-02, 0.0000e+00, 0.0000e+00,\n",
       "         0.0000e+00, 0.0000e+00, 0.0000e+00, 2.0893e-01, 2.6907e-02, 0.0000e+00,\n",
       "         8.7165e-02, 0.0000e+00, 6.2638e-02, 0.0000e+00, 0.0000e+00, 5.9878e-02,\n",
       "         0.0000e+00, 4.7271e-02, 2.2559e-02, 0.0000e+00, 1.5931e-01, 0.0000e+00,\n",
       "         0.0000e+00, 0.0000e+00, 0.0000e+00, 1.2237e-02, 9.3238e-02, 0.0000e+00,\n",
       "         7.9793e-02, 0.0000e+00, 0.0000e+00, 0.0000e+00, 3.1623e+01],\n",
       "        [7.7754e-02, 0.0000e+00, 0.0000e+00, 0.0000e+00, 0.0000e+00, 0.0000e+00,\n",
       "         1.7544e-02, 2.2615e-02, 7.1941e-02, 0.0000e+00, 0.0000e+00, 0.0000e+00,\n",
       "         0.0000e+00, 0.0000e+00, 4.5789e-02, 0.0000e+00, 7.4530e-03, 4.1579e-03,\n",
       "         1.7318e-01, 0.0000e+00, 0.0000e+00, 2.4875e-02, 1.8642e-01, 0.0000e+00,\n",
       "         0.0000e+00, 0.0000e+00, 0.0000e+00, 6.0210e-06, 0.0000e+00, 9.0966e-02,\n",
       "         0.0000e+00, 0.0000e+00, 0.0000e+00, 4.1436e-02, 0.0000e+00, 0.0000e+00,\n",
       "         0.0000e+00, 0.0000e+00, 0.0000e+00, 2.0893e-01, 2.6906e-02, 0.0000e+00,\n",
       "         8.7164e-02, 0.0000e+00, 6.2639e-02, 0.0000e+00, 0.0000e+00, 5.9872e-02,\n",
       "         0.0000e+00, 4.7269e-02, 2.2557e-02, 0.0000e+00, 1.5930e-01, 0.0000e+00,\n",
       "         0.0000e+00, 0.0000e+00, 0.0000e+00, 1.2240e-02, 9.3232e-02, 0.0000e+00,\n",
       "         7.9787e-02, 0.0000e+00, 0.0000e+00, 0.0000e+00, 3.1623e+01],\n",
       "        [7.7749e-02, 0.0000e+00, 0.0000e+00, 0.0000e+00, 0.0000e+00, 0.0000e+00,\n",
       "         1.7541e-02, 2.2612e-02, 7.1940e-02, 0.0000e+00, 0.0000e+00, 0.0000e+00,\n",
       "         0.0000e+00, 0.0000e+00, 4.5789e-02, 0.0000e+00, 7.4563e-03, 4.1594e-03,\n",
       "         1.7318e-01, 0.0000e+00, 0.0000e+00, 2.4880e-02, 1.8641e-01, 0.0000e+00,\n",
       "         0.0000e+00, 0.0000e+00, 0.0000e+00, 4.3511e-06, 0.0000e+00, 9.0962e-02,\n",
       "         0.0000e+00, 0.0000e+00, 0.0000e+00, 4.1439e-02, 0.0000e+00, 0.0000e+00,\n",
       "         0.0000e+00, 0.0000e+00, 0.0000e+00, 2.0893e-01, 2.6902e-02, 0.0000e+00,\n",
       "         8.7159e-02, 0.0000e+00, 6.2637e-02, 0.0000e+00, 0.0000e+00, 5.9866e-02,\n",
       "         0.0000e+00, 4.7268e-02, 2.2553e-02, 0.0000e+00, 1.5931e-01, 0.0000e+00,\n",
       "         0.0000e+00, 0.0000e+00, 0.0000e+00, 1.2238e-02, 9.3230e-02, 0.0000e+00,\n",
       "         7.9786e-02, 0.0000e+00, 0.0000e+00, 0.0000e+00, 3.1623e+01],\n",
       "        [7.7749e-02, 0.0000e+00, 0.0000e+00, 0.0000e+00, 0.0000e+00, 0.0000e+00,\n",
       "         1.7546e-02, 2.2611e-02, 7.1940e-02, 0.0000e+00, 0.0000e+00, 0.0000e+00,\n",
       "         0.0000e+00, 0.0000e+00, 4.5785e-02, 0.0000e+00, 7.4537e-03, 4.1611e-03,\n",
       "         1.7318e-01, 0.0000e+00, 0.0000e+00, 2.4875e-02, 1.8642e-01, 0.0000e+00,\n",
       "         0.0000e+00, 0.0000e+00, 0.0000e+00, 6.1803e-06, 0.0000e+00, 9.0966e-02,\n",
       "         0.0000e+00, 0.0000e+00, 0.0000e+00, 4.1435e-02, 0.0000e+00, 0.0000e+00,\n",
       "         0.0000e+00, 0.0000e+00, 0.0000e+00, 2.0893e-01, 2.6901e-02, 0.0000e+00,\n",
       "         8.7160e-02, 0.0000e+00, 6.2632e-02, 0.0000e+00, 0.0000e+00, 5.9863e-02,\n",
       "         0.0000e+00, 4.7271e-02, 2.2555e-02, 0.0000e+00, 1.5931e-01, 0.0000e+00,\n",
       "         0.0000e+00, 0.0000e+00, 0.0000e+00, 1.2242e-02, 9.3237e-02, 0.0000e+00,\n",
       "         7.9788e-02, 0.0000e+00, 0.0000e+00, 0.0000e+00, 3.1623e+01],\n",
       "        [7.7751e-02, 0.0000e+00, 0.0000e+00, 0.0000e+00, 0.0000e+00, 0.0000e+00,\n",
       "         1.7544e-02, 2.2611e-02, 7.1940e-02, 0.0000e+00, 0.0000e+00, 0.0000e+00,\n",
       "         0.0000e+00, 0.0000e+00, 4.5786e-02, 0.0000e+00, 7.4526e-03, 4.1603e-03,\n",
       "         1.7318e-01, 0.0000e+00, 0.0000e+00, 2.4875e-02, 1.8642e-01, 0.0000e+00,\n",
       "         0.0000e+00, 0.0000e+00, 0.0000e+00, 5.8021e-06, 0.0000e+00, 9.0965e-02,\n",
       "         0.0000e+00, 0.0000e+00, 0.0000e+00, 4.1437e-02, 0.0000e+00, 0.0000e+00,\n",
       "         0.0000e+00, 0.0000e+00, 0.0000e+00, 2.0893e-01, 2.6902e-02, 0.0000e+00,\n",
       "         8.7161e-02, 0.0000e+00, 6.2634e-02, 0.0000e+00, 0.0000e+00, 5.9866e-02,\n",
       "         0.0000e+00, 4.7271e-02, 2.2555e-02, 0.0000e+00, 1.5931e-01, 0.0000e+00,\n",
       "         0.0000e+00, 0.0000e+00, 0.0000e+00, 1.2239e-02, 9.3237e-02, 0.0000e+00,\n",
       "         7.9789e-02, 0.0000e+00, 0.0000e+00, 0.0000e+00, 3.1623e+01],\n",
       "        [7.7750e-02, 0.0000e+00, 0.0000e+00, 0.0000e+00, 0.0000e+00, 0.0000e+00,\n",
       "         1.7533e-02, 2.2612e-02, 7.1943e-02, 0.0000e+00, 0.0000e+00, 0.0000e+00,\n",
       "         0.0000e+00, 0.0000e+00, 4.5790e-02, 0.0000e+00, 7.4561e-03, 4.1548e-03,\n",
       "         1.7317e-01, 0.0000e+00, 0.0000e+00, 2.4881e-02, 1.8641e-01, 0.0000e+00,\n",
       "         0.0000e+00, 0.0000e+00, 0.0000e+00, 5.6392e-06, 0.0000e+00, 9.0961e-02,\n",
       "         0.0000e+00, 0.0000e+00, 0.0000e+00, 4.1443e-02, 0.0000e+00, 0.0000e+00,\n",
       "         0.0000e+00, 0.0000e+00, 0.0000e+00, 2.0893e-01, 2.6898e-02, 0.0000e+00,\n",
       "         8.7157e-02, 0.0000e+00, 6.2637e-02, 0.0000e+00, 0.0000e+00, 5.9860e-02,\n",
       "         0.0000e+00, 4.7267e-02, 2.2551e-02, 0.0000e+00, 1.5931e-01, 0.0000e+00,\n",
       "         0.0000e+00, 0.0000e+00, 0.0000e+00, 1.2239e-02, 9.3228e-02, 0.0000e+00,\n",
       "         7.9785e-02, 0.0000e+00, 0.0000e+00, 0.0000e+00, 3.1623e+01],\n",
       "        [7.7748e-02, 0.0000e+00, 0.0000e+00, 0.0000e+00, 0.0000e+00, 0.0000e+00,\n",
       "         1.7537e-02, 2.2615e-02, 7.1945e-02, 0.0000e+00, 0.0000e+00, 0.0000e+00,\n",
       "         0.0000e+00, 0.0000e+00, 4.5789e-02, 0.0000e+00, 7.4578e-03, 4.1548e-03,\n",
       "         1.7318e-01, 0.0000e+00, 0.0000e+00, 2.4881e-02, 1.8641e-01, 0.0000e+00,\n",
       "         0.0000e+00, 0.0000e+00, 0.0000e+00, 8.7470e-06, 0.0000e+00, 9.0966e-02,\n",
       "         0.0000e+00, 0.0000e+00, 0.0000e+00, 4.1439e-02, 0.0000e+00, 0.0000e+00,\n",
       "         0.0000e+00, 0.0000e+00, 0.0000e+00, 2.0893e-01, 2.6899e-02, 0.0000e+00,\n",
       "         8.7158e-02, 0.0000e+00, 6.2635e-02, 0.0000e+00, 0.0000e+00, 5.9858e-02,\n",
       "         0.0000e+00, 4.7267e-02, 2.2551e-02, 0.0000e+00, 1.5931e-01, 0.0000e+00,\n",
       "         0.0000e+00, 0.0000e+00, 0.0000e+00, 1.2239e-02, 9.3228e-02, 0.0000e+00,\n",
       "         7.9781e-02, 0.0000e+00, 0.0000e+00, 0.0000e+00, 3.1623e+01],\n",
       "        [7.7746e-02, 0.0000e+00, 0.0000e+00, 0.0000e+00, 0.0000e+00, 0.0000e+00,\n",
       "         1.7542e-02, 2.2613e-02, 7.1942e-02, 0.0000e+00, 0.0000e+00, 0.0000e+00,\n",
       "         0.0000e+00, 0.0000e+00, 4.5788e-02, 0.0000e+00, 7.4573e-03, 4.1586e-03,\n",
       "         1.7318e-01, 0.0000e+00, 0.0000e+00, 2.4881e-02, 1.8641e-01, 0.0000e+00,\n",
       "         0.0000e+00, 0.0000e+00, 0.0000e+00, 7.9954e-06, 0.0000e+00, 9.0964e-02,\n",
       "         0.0000e+00, 0.0000e+00, 0.0000e+00, 4.1437e-02, 0.0000e+00, 0.0000e+00,\n",
       "         0.0000e+00, 0.0000e+00, 0.0000e+00, 2.0893e-01, 2.6901e-02, 0.0000e+00,\n",
       "         8.7157e-02, 0.0000e+00, 6.2634e-02, 0.0000e+00, 0.0000e+00, 5.9860e-02,\n",
       "         0.0000e+00, 4.7268e-02, 2.2550e-02, 0.0000e+00, 1.5931e-01, 0.0000e+00,\n",
       "         0.0000e+00, 0.0000e+00, 0.0000e+00, 1.2242e-02, 9.3231e-02, 0.0000e+00,\n",
       "         7.9783e-02, 0.0000e+00, 0.0000e+00, 0.0000e+00, 3.1623e+01]],\n",
       "       grad_fn=<CatBackward>)"
      ]
     },
     "execution_count": 58,
     "metadata": {},
     "output_type": "execute_result"
    }
   ],
   "source": [
    "equiv.call(reshaped_x)"
   ]
  },
  {
   "cell_type": "code",
   "execution_count": null,
   "id": "53b337cc-bf1d-4b6c-9e19-600147801e74",
   "metadata": {},
   "outputs": [],
   "source": []
  }
 ],
 "metadata": {
  "kernelspec": {
   "display_name": "debugsbi2",
   "language": "python",
   "name": "debugsbi2"
  },
  "language_info": {
   "codemirror_mode": {
    "name": "ipython",
    "version": 3
   },
   "file_extension": ".py",
   "mimetype": "text/x-python",
   "name": "python",
   "nbconvert_exporter": "python",
   "pygments_lexer": "ipython3",
   "version": "3.7.11"
  }
 },
 "nbformat": 4,
 "nbformat_minor": 5
}
