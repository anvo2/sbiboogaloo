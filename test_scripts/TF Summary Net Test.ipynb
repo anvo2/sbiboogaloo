{
 "cells": [
  {
   "cell_type": "code",
   "execution_count": 1,
   "metadata": {},
   "outputs": [],
   "source": [
    "import numpy as np\n",
    "import tensorflow as tf\n",
    "from tensorflow.keras.layers import Dense, LSTM\n",
    "from tensorflow.keras.models import Sequential"
   ]
  },
  {
   "cell_type": "code",
   "execution_count": 2,
   "metadata": {},
   "outputs": [],
   "source": [
    "class InvariantModule(tf.keras.Model):\n",
    "    \"\"\"Implements an invariant module with keras.\"\"\"\n",
    "    \n",
    "    def __init__(self, meta):\n",
    "        super(InvariantModule, self).__init__()\n",
    "        \n",
    "        self.s1 = Sequential([Dense(**meta['dense_s1_args']) for _ in range(meta['n_dense_s1'])])\n",
    "        self.s2 = Sequential([Dense(**meta['dense_s2_args']) for _ in range(meta['n_dense_s2'])])\n",
    "                    \n",
    "    def call(self, x):\n",
    "        \"\"\"Performs the forward pass of a learnable invariant transform.\n",
    "        \n",
    "        Parameters\n",
    "        ----------\n",
    "        x : tf.Tensor\n",
    "            Input of shape (batch_size, N, x_dim)\n",
    "        \n",
    "        Returns\n",
    "        -------\n",
    "        out : tf.Tensor\n",
    "            Output of shape (batch_size, out_dim)\n",
    "        \"\"\"\n",
    "        \n",
    "        x_reduced = tf.reduce_mean(self.s1(x), axis=1)\n",
    "        print(x_reduced.shape)\n",
    "        out = self.s2(x_reduced)\n",
    "        return out\n",
    "    \n",
    "    \n",
    "class EquivariantModule(tf.keras.Model):\n",
    "    \"\"\"Implements an equivariant module with keras.\"\"\"\n",
    "    \n",
    "    def __init__(self, meta):\n",
    "        super(EquivariantModule, self).__init__()\n",
    "        \n",
    "        self.invariant_module = InvariantModule(meta)\n",
    "        self.s3 = Sequential([Dense(**meta['dense_s3_args']) for _ in range(meta['n_dense_s3'])])\n",
    "                    \n",
    "    def call(self, x):\n",
    "        \"\"\"Performs the forward pass of a learnable equivariant transform.\n",
    "        \n",
    "        Parameters\n",
    "        ----------\n",
    "        x : tf.Tensor\n",
    "            Input of shape (batch_size, N, x_dim)\n",
    "        \n",
    "        Returns\n",
    "        -------\n",
    "        out : tf.Tensor\n",
    "            Output of shape (batch_size, N, equiv_dim)\n",
    "        \"\"\"\n",
    "        \n",
    "        # Store N\n",
    "        N = int(x.shape[1])\n",
    "        print('Shape x')\n",
    "        print(x.shape)\n",
    "        # Output dim is (batch_size, inv_dim) - > (batch_size, N, inv_dim)\n",
    "        out_inv = self.invariant_module(x)\n",
    "        print('Shape 1')\n",
    "        print(out_inv.shape)\n",
    "        out_inv_rep = tf.stack([out_inv] * N, axis=1)\n",
    "        print('Shape 2')\n",
    "        print(out_inv_rep.shape)\n",
    "        \n",
    "        # Concatenate each x with the repeated invariant embedding\n",
    "        out_c = tf.concat([x, out_inv_rep], axis=-1)\n",
    "        print(out_c.shape)\n",
    "        # Pass through equivariant func\n",
    "        out = self.s3(out_c)\n",
    "        print(out.shape)\n",
    "        return out\n",
    "\n",
    "\n",
    "class InvariantNetwork(tf.keras.Model):\n",
    "    \"\"\"Implements an invariant network with keras.\n",
    "    \"\"\"\n",
    "\n",
    "    def __init__(self, meta={}):\n",
    "        super(InvariantNetwork, self).__init__()\n",
    "\n",
    "        \n",
    "        self.equiv_seq = Sequential([EquivariantModule(meta) for _ in range(meta['n_equiv'])])\n",
    "        print(self.equiv_seq)\n",
    "        self.inv = InvariantModule(meta)\n",
    "    \n",
    "    def call(self, x):\n",
    "        \"\"\" Performs the forward pass of a learnable deep invariant transformation consisting of\n",
    "        a sequence of equivariant transforms followed by an invariant transform.\n",
    "        \n",
    "        Parameters\n",
    "        ----------\n",
    "        x : tf.Tensor\n",
    "            Input of shape (batch_size, n_obs, data_dim)\n",
    "        \n",
    "        Returns\n",
    "        -------\n",
    "        out : tf.Tensor\n",
    "            Output of shape (batch_size, out_dim + 1)\n",
    "        \"\"\"\n",
    "        \n",
    "        # Extract n_obs and create sqrt(N) vector\n",
    "        N = int(x.shape[1])\n",
    "        N_rep = tf.math.sqrt(N * tf.ones((x.shape[0], 1)))\n",
    "\n",
    "        # Pass through series of augmented equivariant transforms\n",
    "        out_equiv = self.equiv_seq(x)\n",
    "\n",
    "        # Pass through final invariant layer and concatenate with N_rep\n",
    "        out_inv = self.inv(out_equiv)\n",
    "        out = tf.concat((out_inv, N_rep), axis=-1)\n",
    "\n",
    "        return out\n",
    "    "
   ]
  },
  {
   "cell_type": "code",
   "execution_count": 3,
   "metadata": {},
   "outputs": [],
   "source": [
    "meta_dict={\n",
    "        'n_dense_s1': 2,\n",
    "        'n_dense_s2': 2,\n",
    "        'n_dense_s3': 2,\n",
    "        'n_equiv':    2,\n",
    "        'dense_s1_args': {'activation': 'relu', 'units': 32},\n",
    "        'dense_s2_args': {'activation': 'relu', 'units': 64},\n",
    "        'dense_s3_args': {'activation': 'relu', 'units': 32}\n",
    "    }"
   ]
  },
  {
   "cell_type": "code",
   "execution_count": 4,
   "metadata": {},
   "outputs": [
    {
     "name": "stdout",
     "output_type": "stream",
     "text": [
      "<tensorflow.python.keras.engine.sequential.Sequential object at 0x7fd3c1966a58>\n"
     ]
    }
   ],
   "source": [
    "inv = InvariantNetwork(meta=meta_dict)"
   ]
  },
  {
   "cell_type": "code",
   "execution_count": 5,
   "metadata": {},
   "outputs": [],
   "source": [
    "noise = np.random.random((10000,1,1024))"
   ]
  },
  {
   "cell_type": "code",
   "execution_count": 6,
   "metadata": {},
   "outputs": [
    {
     "name": "stdout",
     "output_type": "stream",
     "text": [
      "WARNING:tensorflow:Layer equivariant_module is casting an input tensor from dtype float64 to the layer's dtype of float32, which is new behavior in TensorFlow 2.  The layer has dtype float32 because it's dtype defaults to floatx.\n",
      "\n",
      "If you intended to run this layer in float32, you can safely ignore this warning. If in doubt, this warning is likely only an issue if you are porting a TensorFlow 1.X model to TensorFlow 2.\n",
      "\n",
      "To change all layers to have dtype float64 by default, call `tf.keras.backend.set_floatx('float64')`. To change just this layer, pass dtype='float64' to the layer constructor. If you are the author of this layer, you can disable autocasting by passing autocast=False to the base Layer constructor.\n",
      "\n",
      "Shape x\n",
      "(10000, 1, 1024)\n",
      "(10000, 32)\n",
      "Shape 1\n",
      "(10000, 64)\n",
      "Shape 2\n",
      "(10000, 1, 64)\n",
      "(10000, 1, 1088)\n",
      "(10000, 1, 32)\n",
      "Shape x\n",
      "(10000, 1, 32)\n",
      "(10000, 32)\n",
      "Shape 1\n",
      "(10000, 64)\n",
      "Shape 2\n",
      "(10000, 1, 64)\n",
      "(10000, 1, 96)\n",
      "(10000, 1, 32)\n",
      "(10000, 32)\n"
     ]
    },
    {
     "data": {
      "text/plain": [
       "<tf.Tensor: shape=(10000, 65), dtype=float32, numpy=\n",
       "array([[0.01622252, 0.00672532, 0.        , ..., 0.00717338, 0.        ,\n",
       "        0.99999994],\n",
       "       [0.00717196, 0.00704909, 0.        , ..., 0.        , 0.        ,\n",
       "        0.99999994],\n",
       "       [0.0177478 , 0.01310369, 0.01747869, ..., 0.06549501, 0.        ,\n",
       "        0.99999994],\n",
       "       ...,\n",
       "       [0.00623761, 0.01214561, 0.        , ..., 0.        , 0.        ,\n",
       "        0.99999994],\n",
       "       [0.01501398, 0.0100764 , 0.00240402, ..., 0.00429376, 0.        ,\n",
       "        0.99999994],\n",
       "       [0.00836204, 0.00905464, 0.        , ..., 0.        , 0.        ,\n",
       "        0.99999994]], dtype=float32)>"
      ]
     },
     "execution_count": 6,
     "metadata": {},
     "output_type": "execute_result"
    }
   ],
   "source": [
    "inv.call(noise)"
   ]
  },
  {
   "cell_type": "code",
   "execution_count": 7,
   "metadata": {},
   "outputs": [
    {
     "data": {
      "text/plain": [
       "<tf.Tensor: shape=(2, 3, 2), dtype=int64, numpy=\n",
       "array([[[3, 4],\n",
       "        [3, 4],\n",
       "        [3, 4]],\n",
       "\n",
       "       [[5, 6],\n",
       "        [5, 6],\n",
       "        [5, 6]]])>"
      ]
     },
     "execution_count": 7,
     "metadata": {},
     "output_type": "execute_result"
    }
   ],
   "source": [
    "test1 = np.array([[3,4],[5,6]])\n",
    "tf.stack([test1] * 3, 1)"
   ]
  },
  {
   "cell_type": "code",
   "execution_count": 8,
   "metadata": {},
   "outputs": [
    {
     "ename": "NameError",
     "evalue": "name 'prior' is not defined",
     "output_type": "error",
     "traceback": [
      "\u001b[0;31m---------------------------------------------------------------------------\u001b[0m",
      "\u001b[0;31mNameError\u001b[0m                                 Traceback (most recent call last)",
      "\u001b[0;32m<ipython-input-8-60d09bfd151d>\u001b[0m in \u001b[0;36m<module>\u001b[0;34m\u001b[0m\n\u001b[1;32m      1\u001b[0m \u001b[0mnumber_presimulated\u001b[0m \u001b[0;34m=\u001b[0m \u001b[0;36m1000\u001b[0m\u001b[0;34m\u001b[0m\u001b[0;34m\u001b[0m\u001b[0m\n\u001b[0;32m----> 2\u001b[0;31m \u001b[0mtheta_presimulated\u001b[0m \u001b[0;34m=\u001b[0m \u001b[0mprior\u001b[0m\u001b[0;34m.\u001b[0m\u001b[0msample\u001b[0m\u001b[0;34m(\u001b[0m\u001b[0;34m(\u001b[0m\u001b[0mnumber_presimulated\u001b[0m\u001b[0;34m,\u001b[0m\u001b[0;34m)\u001b[0m\u001b[0;34m)\u001b[0m\u001b[0;34m\u001b[0m\u001b[0;34m\u001b[0m\u001b[0m\n\u001b[0m\u001b[1;32m      3\u001b[0m \u001b[0mx_presimulated\u001b[0m \u001b[0;34m=\u001b[0m \u001b[0msimulator\u001b[0m\u001b[0;34m(\u001b[0m\u001b[0mtheta_presimulated\u001b[0m\u001b[0;34m)\u001b[0m\u001b[0;34m\u001b[0m\u001b[0;34m\u001b[0m\u001b[0m\n\u001b[1;32m      4\u001b[0m \u001b[0;34m\u001b[0m\u001b[0m\n\u001b[1;32m      5\u001b[0m \u001b[0mprint\u001b[0m\u001b[0;34m(\u001b[0m\u001b[0;34m'Shape of x_presimulated    : '\u001b[0m\u001b[0;34m,\u001b[0m \u001b[0mx_presimulated\u001b[0m\u001b[0;34m.\u001b[0m\u001b[0mshape\u001b[0m\u001b[0;34m)\u001b[0m\u001b[0;34m\u001b[0m\u001b[0;34m\u001b[0m\u001b[0m\n",
      "\u001b[0;31mNameError\u001b[0m: name 'prior' is not defined"
     ]
    }
   ],
   "source": [
    "number_presimulated = 1000\n",
    "theta_presimulated = prior.sample((number_presimulated,))\n",
    "x_presimulated = simulator(theta_presimulated)\n",
    "\n",
    "print('Shape of x_presimulated    : ', x_presimulated.shape)"
   ]
  },
  {
   "cell_type": "code",
   "execution_count": 9,
   "metadata": {},
   "outputs": [
    {
     "ename": "NameError",
     "evalue": "name 'SNPE' is not defined",
     "output_type": "error",
     "traceback": [
      "\u001b[0;31m---------------------------------------------------------------------------\u001b[0m",
      "\u001b[0;31mNameError\u001b[0m                                 Traceback (most recent call last)",
      "\u001b[0;32m<ipython-input-9-9b3cd8795ea6>\u001b[0m in \u001b[0;36m<module>\u001b[0;34m\u001b[0m\n\u001b[0;32m----> 1\u001b[0;31m \u001b[0minference\u001b[0m \u001b[0;34m=\u001b[0m \u001b[0mSNPE\u001b[0m\u001b[0;34m(\u001b[0m\u001b[0mprior\u001b[0m\u001b[0;34m)\u001b[0m\u001b[0;34m\u001b[0m\u001b[0;34m\u001b[0m\u001b[0m\n\u001b[0m\u001b[1;32m      2\u001b[0m \u001b[0minference\u001b[0m\u001b[0;34m.\u001b[0m\u001b[0mprovide_presimulated\u001b[0m\u001b[0;34m(\u001b[0m\u001b[0mtheta_presimulated\u001b[0m\u001b[0;34m,\u001b[0m \u001b[0mx_presimulated\u001b[0m\u001b[0;34m,\u001b[0m \u001b[0mfrom_round\u001b[0m\u001b[0;34m=\u001b[0m\u001b[0;36m0\u001b[0m\u001b[0;34m)\u001b[0m\u001b[0;34m\u001b[0m\u001b[0;34m\u001b[0m\u001b[0m\n",
      "\u001b[0;31mNameError\u001b[0m: name 'SNPE' is not defined"
     ]
    }
   ],
   "source": [
    "inference = SNPE(prior)\n",
    "inference.provide_presimulated(theta_presimulated, x_presimulated, from_round=0)"
   ]
  },
  {
   "cell_type": "code",
   "execution_count": 10,
   "metadata": {},
   "outputs": [
    {
     "ename": "NameError",
     "evalue": "name 'inference' is not defined",
     "output_type": "error",
     "traceback": [
      "\u001b[0;31m---------------------------------------------------------------------------\u001b[0m",
      "\u001b[0;31mNameError\u001b[0m                                 Traceback (most recent call last)",
      "\u001b[0;32m<ipython-input-10-5aa0ce1b47f7>\u001b[0m in \u001b[0;36m<module>\u001b[0;34m\u001b[0m\n\u001b[0;32m----> 1\u001b[0;31m \u001b[0mhelp\u001b[0m\u001b[0;34m(\u001b[0m\u001b[0minference\u001b[0m\u001b[0;34m)\u001b[0m\u001b[0;34m\u001b[0m\u001b[0;34m\u001b[0m\u001b[0m\n\u001b[0m",
      "\u001b[0;31mNameError\u001b[0m: name 'inference' is not defined"
     ]
    }
   ],
   "source": [
    "help(inference)"
   ]
  },
  {
   "cell_type": "code",
   "execution_count": null,
   "metadata": {},
   "outputs": [],
   "source": []
  }
 ],
 "metadata": {
  "kernelspec": {
   "display_name": "Python 3.6.10 64-bit ('hddm4': conda)",
   "language": "python",
   "name": "python3610jvsc74a57bd081590560da25848ecf824ef90081fc1f6de7a508024213f0b9acc01e548ac426"
  },
  "language_info": {
   "codemirror_mode": {
    "name": "ipython",
    "version": 3
   },
   "file_extension": ".py",
   "mimetype": "text/x-python",
   "name": "python",
   "nbconvert_exporter": "python",
   "pygments_lexer": "ipython3",
   "version": "3.6.10"
  }
 },
 "nbformat": 4,
 "nbformat_minor": 4
}
